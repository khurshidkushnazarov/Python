{
 "cells": [
  {
   "cell_type": "markdown",
   "id": "e0e035ac",
   "metadata": {},
   "source": [
    "CLASS, OOP"
   ]
  },
  {
   "cell_type": "code",
   "execution_count": 1,
   "id": "a4c3b1dc",
   "metadata": {},
   "outputs": [
    {
     "name": "stdout",
     "output_type": "stream",
     "text": [
      "<class '__main__.my_class'>\n"
     ]
    }
   ],
   "source": [
    "class my_class:\n",
    "    pass\n",
    "\n",
    "my_object =  my_class()\n",
    "print(type(my_object))"
   ]
  },
  {
   "cell_type": "code",
   "execution_count": 2,
   "id": "45ea6c74",
   "metadata": {},
   "outputs": [
    {
     "name": "stdout",
     "output_type": "stream",
     "text": [
      "azamat1015@gmail.com\n"
     ]
    }
   ],
   "source": [
    "class student:\n",
    "    pass\n",
    "student1 = student()\n",
    "student1.age = 25\n",
    "student1.name = 'Azamat'\n",
    "student1.email = 'azamat1015@gmail.com'\n",
    "print(student1.email)"
   ]
  },
  {
   "cell_type": "code",
   "execution_count": 7,
   "id": "50392cda",
   "metadata": {},
   "outputs": [
    {
     "name": "stdout",
     "output_type": "stream",
     "text": [
      "azamat1015@gmail.com\n",
      "husan1015@gmail.com\n"
     ]
    }
   ],
   "source": [
    "class student:\n",
    "    pass\n",
    "student1 = student()\n",
    "student1.age = 25\n",
    "student1.name = 'Azamat'\n",
    "student1.email = 'azamat1015@gmail.com'\n",
    "student2 = student()\n",
    "student2.age = 26\n",
    "student2.name = 'Husan'\n",
    "student2.email = 'husan1015@gmail.com'\n",
    "print(student1.email)\n",
    "print(student2.email)"
   ]
  },
  {
   "cell_type": "code",
   "execution_count": 14,
   "id": "02ad67f6",
   "metadata": {},
   "outputs": [
    {
     "name": "stdout",
     "output_type": "stream",
     "text": [
      "azamat1015@gmail.com\n",
      "husan1015@gmail.com\n"
     ]
    }
   ],
   "source": [
    "class student:\n",
    "    def __init__(self, name, age, email):\n",
    "        self.name = name\n",
    "        self.age = age\n",
    "        self.email = email\n",
    "s1 = student('Azamat', 24, 'azamat1015@gmail.com')\n",
    "s2 = student('Husan', 26, 'husan1015@gmail.com')\n",
    "print(s1.email)\n",
    "print(s2.email)"
   ]
  },
  {
   "cell_type": "code",
   "execution_count": 15,
   "id": "c8a4f521",
   "metadata": {},
   "outputs": [
    {
     "name": "stdout",
     "output_type": "stream",
     "text": [
      "azamat1015@gmail.com 24 Azamat\n",
      "husan1015@gmail.com 26 Husan\n"
     ]
    }
   ],
   "source": [
    "class student:\n",
    "    def __init__(self, name, age, email):\n",
    "        self.name = name\n",
    "        self.age = age\n",
    "        self.email = email\n",
    "s1 = student('Azamat', 24, 'azamat1015@gmail.com')\n",
    "s2 = student('Husan', 26, 'husan1015@gmail.com')\n",
    "print(s1.email,s1.age,s1.name)\n",
    "print(s2.email,s2.age,s2.name)"
   ]
  },
  {
   "cell_type": "code",
   "execution_count": 21,
   "id": "69892379",
   "metadata": {},
   "outputs": [
    {
     "name": "stdout",
     "output_type": "stream",
     "text": [
      "2000\n"
     ]
    }
   ],
   "source": [
    "class Employee:\n",
    "    salary = 1000\n",
    "    def __init__(self,name,age,salary):\n",
    "        self.name = name\n",
    "        self.age = age\n",
    "        self.salary = salary\n",
    "\n",
    "employee1 = Employee('Azamat', 41, 2000)\n",
    "print(employee1.salary)\n",
    "        "
   ]
  },
  {
   "cell_type": "code",
   "execution_count": 22,
   "id": "93c0ea58",
   "metadata": {},
   "outputs": [
    {
     "name": "stdout",
     "output_type": "stream",
     "text": [
      "1000\n"
     ]
    }
   ],
   "source": [
    "class Employee:\n",
    "    salary = 1000\n",
    "    def __init__(self,name,age,salary):\n",
    "        self.name = name\n",
    "        self.age = age\n",
    "        self.salary = salary\n",
    "\n",
    "employee1 = Employee('Azamat', 41, 2000)\n",
    "print(Employee.salary)\n",
    "        "
   ]
  },
  {
   "cell_type": "code",
   "execution_count": 23,
   "id": "3934f9cd",
   "metadata": {},
   "outputs": [
    {
     "name": "stdout",
     "output_type": "stream",
     "text": [
      "5000\n",
      "1000\n"
     ]
    }
   ],
   "source": [
    "class Employee:\n",
    "    salary = 1000\n",
    "    def __init__(self,name,age,salary):\n",
    "        self.name = name\n",
    "        self.age = age\n",
    "        self.salary = salary\n",
    "\n",
    "employee1 = Employee('Azamat', 41, 2000)\n",
    "employee2 = Employee('Alex', 42, 5000)\n",
    "print(employee2.salary)\n",
    "print(Employee.salary)"
   ]
  },
  {
   "cell_type": "code",
   "execution_count": null,
   "id": "0e6e3df2",
   "metadata": {},
   "outputs": [
    {
     "name": "stdout",
     "output_type": "stream",
     "text": [
      "5100\n",
      "100\n"
     ]
    }
   ],
   "source": [
    "class Employee:\n",
    "    bonus = 100       # 100 dollar bonus berilganda\n",
    "    def __init__(self,name,age,salary):\n",
    "        self.name = name\n",
    "        self.age = age\n",
    "        self.salary = salary+self.bonus\n",
    "\n",
    "employee1 = Employee('Azamat', 41, 2000)\n",
    "employee2 = Employee('Alex', 42, 5000)\n",
    "print(employee2.salary)\n",
    "print(Employee.bonus)"
   ]
  },
  {
   "cell_type": "code",
   "execution_count": null,
   "id": "9a7d5df8",
   "metadata": {},
   "outputs": [
    {
     "name": "stdout",
     "output_type": "stream",
     "text": [
      "5100\n",
      "2100\n"
     ]
    }
   ],
   "source": [
    "class Employee:\n",
    "    bonus = 100  # 100 dollar bonus berilganda\n",
    "    def __init__(self,name,age,salary):\n",
    "        self.name = name\n",
    "        self.age = age\n",
    "        self.salary = salary+self.bonus\n",
    "\n",
    "employee1 = Employee('Azamat', 41, 2000)\n",
    "employee2 = Employee('Alex', 42, 5000)\n",
    "print(employee2.salary)\n",
    "print(employee1.salary)"
   ]
  },
  {
   "cell_type": "code",
   "execution_count": 32,
   "id": "1b8af697",
   "metadata": {},
   "outputs": [
    {
     "name": "stdout",
     "output_type": "stream",
     "text": [
      "Point(4 3)\n"
     ]
    }
   ],
   "source": [
    "class Point:\n",
    "    def __init__(self,x,y):\n",
    "        self.x = x\n",
    "        self.y = y\n",
    "    def __str__(self):\n",
    "        return f\"Point({self.x} {self.y})\"\n",
    "\n",
    "p1 = Point(4,3)\n",
    "\n",
    "print(p1)"
   ]
  },
  {
   "cell_type": "code",
   "execution_count": 36,
   "id": "5e51da19",
   "metadata": {},
   "outputs": [
    {
     "name": "stdout",
     "output_type": "stream",
     "text": [
      "Point(-4 -3)\n"
     ]
    }
   ],
   "source": [
    "class Point:\n",
    "    def __init__(self,x,y):\n",
    "        self.x = x\n",
    "        self.y = y\n",
    "    def __str__(self):\n",
    "        return f\"Point({self.x} {self.y})\"\n",
    "    def reverse(self):\n",
    "        self.x = -1 * self.x\n",
    "        self.y = -1 * self.y\n",
    "\n",
    "p1 = Point(4,3)\n",
    "p1.reverse()\n",
    "\n",
    "print(p1)"
   ]
  },
  {
   "cell_type": "code",
   "execution_count": 38,
   "id": "3d441c9e",
   "metadata": {},
   "outputs": [
    {
     "name": "stdout",
     "output_type": "stream",
     "text": [
      "Point(0 0)\n"
     ]
    }
   ],
   "source": [
    "class Point:\n",
    "    def __init__(self,x,y):\n",
    "        self.x = x\n",
    "        self.y = y\n",
    "    def __str__(self):\n",
    "        return f\"Point({self.x} {self.y})\"\n",
    "    def reverse(self):\n",
    "        self.x = -1 * self.x\n",
    "        self.y = -1 * self.y\n",
    "    def reset(self):\n",
    "        self.x = 0\n",
    "        self.y = 0\n",
    "\n",
    "p1 = Point(4,3)\n",
    "p1.reverse()\n",
    "p1.reset()\n",
    "\n",
    "print(p1)"
   ]
  },
  {
   "cell_type": "code",
   "execution_count": 42,
   "id": "1f9e65e8",
   "metadata": {},
   "outputs": [
    {
     "data": {
      "text/plain": [
       "5.0"
      ]
     },
     "execution_count": 42,
     "metadata": {},
     "output_type": "execute_result"
    }
   ],
   "source": [
    "class Point:\n",
    "    def __init__(self,x,y):\n",
    "        self.x = x\n",
    "        self.y = y\n",
    "    def __str__(self):\n",
    "        return f\"Point({self.x} {self.y})\"\n",
    "    def reverse(self):\n",
    "        self.x = -1 * self.x\n",
    "        self.y = -1 * self.y\n",
    "    def reset(self):\n",
    "        self.x = 0\n",
    "        self.y = 0\n",
    "    def uzuntop(self):\n",
    "        masofa = (self.x**2 + self.y**2)**0.5\n",
    "        return masofa\n",
    "\n",
    "p1 = Point(4,3)\n",
    "#p1.reverse()\n",
    "#p1.reset()\n",
    "p1.uzuntop()\n",
    "\n",
    "# print(p1)"
   ]
  },
  {
   "cell_type": "code",
   "execution_count": null,
   "id": "db0d84af",
   "metadata": {},
   "outputs": [],
   "source": []
  }
 ],
 "metadata": {
  "kernelspec": {
   "display_name": "Python 3",
   "language": "python",
   "name": "python3"
  },
  "language_info": {
   "codemirror_mode": {
    "name": "ipython",
    "version": 3
   },
   "file_extension": ".py",
   "mimetype": "text/x-python",
   "name": "python",
   "nbconvert_exporter": "python",
   "pygments_lexer": "ipython3",
   "version": "3.12.10"
  }
 },
 "nbformat": 4,
 "nbformat_minor": 5
}
