{
 "cells": [
  {
   "cell_type": "markdown",
   "id": "924cbdf2",
   "metadata": {},
   "source": [
    "TAKRORLASH"
   ]
  },
  {
   "cell_type": "code",
   "execution_count": 18,
   "id": "8818c541",
   "metadata": {},
   "outputs": [
    {
     "name": "stdout",
     "output_type": "stream",
     "text": [
      "[1, 2, 3, 4, 5, 6, 7, 8, 9]\n"
     ]
    }
   ],
   "source": [
    "ls = [[1,2,3],[4,5,6],[7,8,9]]\n",
    "new_list = ls[0]+ls[1]+ls[2]\n",
    "print(new_list)\n"
   ]
  },
  {
   "cell_type": "code",
   "execution_count": 17,
   "id": "faacbf7a",
   "metadata": {},
   "outputs": [
    {
     "data": {
      "text/plain": [
       "[1, 2, 3, 4, 5, 6, 7, 8, 9]"
      ]
     },
     "execution_count": 17,
     "metadata": {},
     "output_type": "execute_result"
    }
   ],
   "source": [
    "ls = [[1,2,3],[4,5,6],[7,8,9]]\n",
    "new_list = []\n",
    "for m in ls:\n",
    "    new_list.extend(m)\n",
    "new_list"
   ]
  },
  {
   "cell_type": "code",
   "execution_count": 23,
   "id": "23e699b1",
   "metadata": {},
   "outputs": [
    {
     "name": "stdout",
     "output_type": "stream",
     "text": [
      "A1\n",
      "A2\n",
      "A3\n",
      "A4\n",
      "B1\n",
      "B2\n",
      "B3\n",
      "B4\n",
      "C1\n",
      "C2\n",
      "C3\n",
      "C4\n"
     ]
    }
   ],
   "source": [
    "letters = ['A','B','C']\n",
    "numbers = [1,2,3,4]\n",
    "\n",
    "#A1\n",
    "#A2\n",
    "#A3\n",
    "#A4\n",
    "#...\n",
    "\n",
    "for a in letters:\n",
    "    for b in numbers:\n",
    "        print(a+str(b))        \n"
   ]
  },
  {
   "cell_type": "code",
   "execution_count": 24,
   "id": "cfd72967",
   "metadata": {},
   "outputs": [
    {
     "name": "stdout",
     "output_type": "stream",
     "text": [
      "A1\n",
      "A2\n",
      "A3\n",
      "A4\n",
      "B1\n",
      "B2\n",
      "B3\n",
      "B4\n",
      "C1\n",
      "C2\n",
      "C3\n",
      "C4\n"
     ]
    }
   ],
   "source": [
    "for a in letters:\n",
    "    for b in numbers:\n",
    "        print(f\"{a}{b}\")"
   ]
  },
  {
   "cell_type": "code",
   "execution_count": 26,
   "id": "43836085",
   "metadata": {},
   "outputs": [
    {
     "name": "stdout",
     "output_type": "stream",
     "text": [
      "4\n",
      "9\n",
      "25\n",
      "36\n",
      "64\n",
      "81\n"
     ]
    }
   ],
   "source": [
    "ls = [1,2,3,4,5,6,7,8,9]\n",
    "ls2 = [4,7,1]\n",
    "for a in ls:\n",
    "    if a not in ls2:\n",
    "        print(a**2)\n"
   ]
  },
  {
   "cell_type": "code",
   "execution_count": 34,
   "id": "a1e69d7e",
   "metadata": {},
   "outputs": [
    {
     "name": "stdout",
     "output_type": "stream",
     "text": [
      "{1: 4, 2: 1, 3: 2, 4: 3, 5: 2, 6: 2, 7: 1, 8: 2, 9: 1}\n"
     ]
    }
   ],
   "source": [
    "ls = [1,2,3,4,1,5,6,4,6,7,8,1,3,4,8,9,1,5]\n",
    "\n",
    "# d = {1:4, 2:1...}\n",
    "d= {}\n",
    "for a in set(ls):\n",
    "    d [a]= ls.count(a)\n",
    "print(d)"
   ]
  },
  {
   "cell_type": "code",
   "execution_count": 36,
   "id": "92926095",
   "metadata": {},
   "outputs": [
    {
     "data": {
      "text/plain": [
       "{1: 4, 2: 1, 3: 2, 4: 3, 5: 2, 6: 2, 7: 1, 8: 2, 9: 1}"
      ]
     },
     "execution_count": 36,
     "metadata": {},
     "output_type": "execute_result"
    }
   ],
   "source": [
    "ls = [1,2,3,4,1,5,6,4,6,7,8,1,3,4,8,9,1,5]\n",
    "d = {}\n",
    "for num in ls:\n",
    "    if num not in d.keys():\n",
    "        d[num] = 1\n",
    "    else:\n",
    "        d[num] = d[num] + 1   \n",
    "d        \n"
   ]
  },
  {
   "cell_type": "code",
   "execution_count": 45,
   "id": "77befa3b",
   "metadata": {},
   "outputs": [
    {
     "data": {
      "text/plain": [
       "22"
      ]
     },
     "execution_count": 45,
     "metadata": {},
     "output_type": "execute_result"
    }
   ],
   "source": [
    "txt = \"We are learning python and sql, both tools are important for data managment\"\n",
    "\n",
    "def count_wovels(message):\n",
    "    wovels = 'aouie'\n",
    "    num = 0\n",
    "    for letter in message:\n",
    "        if letter.lower() in wovels:\n",
    "            num = num + 1\n",
    "    return num\n",
    "count_wovels(txt)\n",
    "\n"
   ]
  },
  {
   "cell_type": "code",
   "execution_count": 46,
   "id": "7d738711",
   "metadata": {},
   "outputs": [
    {
     "data": {
      "text/plain": [
       "53"
      ]
     },
     "execution_count": 46,
     "metadata": {},
     "output_type": "execute_result"
    }
   ],
   "source": [
    "txt = \"We are learning python and sql, both tools are important for data managment\"\n",
    "\n",
    "def count_wovels(message):\n",
    "    wovels = 'aouie'\n",
    "    num = 0\n",
    "    for letter in message:\n",
    "        if letter.lower() not in wovels:\n",
    "            num = num + 1\n",
    "    return num\n",
    "count_wovels(txt)"
   ]
  },
  {
   "cell_type": "code",
   "execution_count": 52,
   "id": "ec26c2a9",
   "metadata": {},
   "outputs": [
    {
     "name": "stdout",
     "output_type": "stream",
     "text": [
      "Amerikaliklarda 8\n",
      "rivojlantirilmoqda 11\n",
      "samaradorlik 7\n"
     ]
    }
   ],
   "source": [
    "ls = ['Amerikaliklarda', 'rivojlantirilmoqda', 'Uzbekistan', 'Tashkent', 'samaradorlik']\n",
    "\n",
    "for word in ls:\n",
    "    unli_soni = count_wovels(word)\n",
    "    if unli_soni >=5:\n",
    "        undosh_soni = len(word) - unli_soni\n",
    "        print(word,undosh_soni)\n"
   ]
  },
  {
   "cell_type": "code",
   "execution_count": 61,
   "id": "1665916e",
   "metadata": {},
   "outputs": [
    {
     "name": "stdout",
     "output_type": "stream",
     "text": [
      "word1 1\n",
      "word2 1\n",
      "word3 1\n",
      "word4 1\n",
      "word5 1\n"
     ]
    }
   ],
   "source": [
    "d ={\"word1\":'Amerikaliklarda', \"word2\":'rivojlantirilmoqda', \"word3\":'Uzbekistan', \"word4\":'Tashkent', \"word5\":'samaradorlik'}\n",
    "\n",
    "for value in d:\n",
    "    unli_soni = count_wovels(value)\n",
    "    print(value,unli_soni)"
   ]
  },
  {
   "cell_type": "code",
   "execution_count": null,
   "id": "b82ab94a",
   "metadata": {},
   "outputs": [
    {
     "data": {
      "text/plain": [
       "{'word4': 'Tashkent',\n",
       " 'word3': 'Uzbekistan',\n",
       " 'word5': 'samaradorlik',\n",
       " 'word1': 'Amerikaliklarda',\n",
       " 'word2': 'rivojlantirilmoqda'}"
      ]
     },
     "execution_count": 58,
     "metadata": {},
     "output_type": "execute_result"
    }
   ],
   "source": [
    "## d da value unlilari buyicha sortirovka qilsin\n",
    "d ={\"word1\":'Amerikaliklarda', \"word2\":'rivojlantirilmoqda', \"word3\":'Uzbekistan', \"word4\":'Tashkent', \"word5\":'samaradorlik'}\n",
    "dict(sorted(d.items(), key=lambda x: count_wovels(x[1])))"
   ]
  }
 ],
 "metadata": {
  "kernelspec": {
   "display_name": "Python 3",
   "language": "python",
   "name": "python3"
  },
  "language_info": {
   "codemirror_mode": {
    "name": "ipython",
    "version": 3
   },
   "file_extension": ".py",
   "mimetype": "text/x-python",
   "name": "python",
   "nbconvert_exporter": "python",
   "pygments_lexer": "ipython3",
   "version": "3.12.10"
  }
 },
 "nbformat": 4,
 "nbformat_minor": 5
}
