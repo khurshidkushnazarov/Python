{
 "cells": [
  {
   "cell_type": "markdown",
   "id": "417631b1",
   "metadata": {},
   "source": [
    "LESSON 4"
   ]
  },
  {
   "cell_type": "markdown",
   "id": "7b4e3c64",
   "metadata": {},
   "source": [
    "SET, Conditional statement"
   ]
  },
  {
   "cell_type": "markdown",
   "id": "2d03b3b4",
   "metadata": {},
   "source": [
    "SET"
   ]
  },
  {
   "cell_type": "code",
   "execution_count": null,
   "id": "b119aa6e",
   "metadata": {},
   "outputs": [],
   "source": [
    "s = {1,2,3,'a','gvh'}\n",
    "\n",
    "## rules for set creation\n",
    "# rule 1---Har bir element uzgarmas bulishi kerak\n",
    "# rule 2--- Har bir element faqat 1 marta ishlatiladi\n",
    "# rule 3--- unordered---indexing va slicing SET da ishlatilmaydi!!!!"
   ]
  },
  {
   "cell_type": "code",
   "execution_count": 3,
   "id": "2d449cf5",
   "metadata": {},
   "outputs": [
    {
     "data": {
      "text/plain": [
       "{1, 2, 3, 4}"
      ]
     },
     "execution_count": 3,
     "metadata": {},
     "output_type": "execute_result"
    }
   ],
   "source": [
    "s = {1,2,3,4,1}\n",
    "s"
   ]
  },
  {
   "cell_type": "code",
   "execution_count": null,
   "id": "d67ccae5",
   "metadata": {},
   "outputs": [],
   "source": [
    "s = {1,2,3,[1,3,2]}"
   ]
  },
  {
   "cell_type": "code",
   "execution_count": 4,
   "id": "5eae66c8",
   "metadata": {},
   "outputs": [],
   "source": [
    "s.add(45)"
   ]
  },
  {
   "cell_type": "code",
   "execution_count": 7,
   "id": "c268848a",
   "metadata": {},
   "outputs": [
    {
     "data": {
      "text/plain": [
       "<function set.clear>"
      ]
     },
     "execution_count": 7,
     "metadata": {},
     "output_type": "execute_result"
    }
   ],
   "source": [
    "s.clear"
   ]
  },
  {
   "cell_type": "code",
   "execution_count": 5,
   "id": "c545e903",
   "metadata": {},
   "outputs": [],
   "source": [
    "s.discard(45)"
   ]
  },
  {
   "cell_type": "code",
   "execution_count": 6,
   "id": "54de6b07",
   "metadata": {},
   "outputs": [
    {
     "ename": "KeyError",
     "evalue": "45",
     "output_type": "error",
     "traceback": [
      "\u001b[31m---------------------------------------------------------------------------\u001b[39m",
      "\u001b[31mKeyError\u001b[39m                                  Traceback (most recent call last)",
      "\u001b[36mCell\u001b[39m\u001b[36m \u001b[39m\u001b[32mIn[6]\u001b[39m\u001b[32m, line 1\u001b[39m\n\u001b[32m----> \u001b[39m\u001b[32m1\u001b[39m \u001b[43ms\u001b[49m\u001b[43m.\u001b[49m\u001b[43mremove\u001b[49m\u001b[43m(\u001b[49m\u001b[32;43m45\u001b[39;49m\u001b[43m)\u001b[49m\n",
      "\u001b[31mKeyError\u001b[39m: 45"
     ]
    }
   ],
   "source": [
    "s.remove(45)"
   ]
  },
  {
   "cell_type": "code",
   "execution_count": null,
   "id": "79af7df5",
   "metadata": {},
   "outputs": [],
   "source": [
    "s = {1,2,3}"
   ]
  },
  {
   "cell_type": "code",
   "execution_count": 9,
   "id": "9bbf50a4",
   "metadata": {},
   "outputs": [],
   "source": [
    "s2 = s.copy"
   ]
  },
  {
   "cell_type": "code",
   "execution_count": 10,
   "id": "93907e4b",
   "metadata": {},
   "outputs": [
    {
     "data": {
      "text/plain": [
       "<function set.copy>"
      ]
     },
     "execution_count": 10,
     "metadata": {},
     "output_type": "execute_result"
    }
   ],
   "source": [
    "s2"
   ]
  },
  {
   "cell_type": "code",
   "execution_count": 11,
   "id": "5a5f91e0",
   "metadata": {},
   "outputs": [
    {
     "data": {
      "text/plain": [
       "1"
      ]
     },
     "execution_count": 11,
     "metadata": {},
     "output_type": "execute_result"
    }
   ],
   "source": [
    "s.pop()"
   ]
  },
  {
   "cell_type": "code",
   "execution_count": 12,
   "id": "dcea4ac0",
   "metadata": {},
   "outputs": [
    {
     "data": {
      "text/plain": [
       "False"
      ]
     },
     "execution_count": 12,
     "metadata": {},
     "output_type": "execute_result"
    }
   ],
   "source": [
    "bool('')"
   ]
  },
  {
   "cell_type": "code",
   "execution_count": 15,
   "id": "e6ed6024",
   "metadata": {},
   "outputs": [
    {
     "data": {
      "text/plain": [
       "True"
      ]
     },
     "execution_count": 15,
     "metadata": {},
     "output_type": "execute_result"
    }
   ],
   "source": [
    "bool(\" \")"
   ]
  },
  {
   "cell_type": "code",
   "execution_count": 16,
   "id": "a4095842",
   "metadata": {},
   "outputs": [
    {
     "data": {
      "text/plain": [
       "True"
      ]
     },
     "execution_count": 16,
     "metadata": {},
     "output_type": "execute_result"
    }
   ],
   "source": [
    "bool(\"uzb\")"
   ]
  },
  {
   "cell_type": "code",
   "execution_count": 17,
   "id": "6298403f",
   "metadata": {},
   "outputs": [
    {
     "data": {
      "text/plain": [
       "True"
      ]
     },
     "execution_count": 17,
     "metadata": {},
     "output_type": "execute_result"
    }
   ],
   "source": [
    "a =3\n",
    "a==3"
   ]
  },
  {
   "cell_type": "code",
   "execution_count": 18,
   "id": "b79e2469",
   "metadata": {},
   "outputs": [
    {
     "data": {
      "text/plain": [
       "False"
      ]
     },
     "execution_count": 18,
     "metadata": {},
     "output_type": "execute_result"
    }
   ],
   "source": [
    "a =4\n",
    "a==3"
   ]
  },
  {
   "cell_type": "code",
   "execution_count": 19,
   "id": "53b8b31e",
   "metadata": {},
   "outputs": [
    {
     "data": {
      "text/plain": [
       "True"
      ]
     },
     "execution_count": 19,
     "metadata": {},
     "output_type": "execute_result"
    }
   ],
   "source": [
    "a =4\n",
    "a!=3"
   ]
  },
  {
   "cell_type": "code",
   "execution_count": 20,
   "id": "7baacbf6",
   "metadata": {},
   "outputs": [
    {
     "data": {
      "text/plain": [
       "False"
      ]
     },
     "execution_count": 20,
     "metadata": {},
     "output_type": "execute_result"
    }
   ],
   "source": [
    "a =3\n",
    "a!=3"
   ]
  },
  {
   "cell_type": "code",
   "execution_count": 21,
   "id": "f61dc8ad",
   "metadata": {},
   "outputs": [
    {
     "data": {
      "text/plain": [
       "False"
      ]
     },
     "execution_count": 21,
     "metadata": {},
     "output_type": "execute_result"
    }
   ],
   "source": [
    "a!=3"
   ]
  },
  {
   "cell_type": "code",
   "execution_count": 23,
   "id": "37d402fe",
   "metadata": {},
   "outputs": [
    {
     "name": "stdout",
     "output_type": "stream",
     "text": [
      "Yoshing yetarli emas\n"
     ]
    }
   ],
   "source": [
    "age = int(input(\"Yoshingni kirit\"))\n",
    "\n",
    "if age>=18:\n",
    "    print(\"San prava olasan\")\n",
    "else:\n",
    "    print(\"Yoshing yetarli emas\")"
   ]
  },
  {
   "cell_type": "code",
   "execution_count": 26,
   "id": "041d6c10",
   "metadata": {},
   "outputs": [
    {
     "name": "stdout",
     "output_type": "stream",
     "text": [
      "Seni ishga olamiz\n"
     ]
    }
   ],
   "source": [
    "city = input(\"Qaerda yashaysan\")\n",
    "if city == \"Tashkent\":\n",
    "    print('Seni ishga olamiz')\n",
    "else:\n",
    "    print('uzr, kechirasan')    "
   ]
  },
  {
   "cell_type": "code",
   "execution_count": 29,
   "id": "043c50e3",
   "metadata": {},
   "outputs": [
    {
     "name": "stdout",
     "output_type": "stream",
     "text": [
      "uzr kechirasiz\n"
     ]
    }
   ],
   "source": [
    "ball = int(input(\"IELTS ballini kiriting\"))\n",
    "if ball >= 7:\n",
    "    print(\"Tabriklaymiz siz 2 mln sohibi buldingiz\")\n",
    "else:\n",
    "    print(\"uzr kechirasiz\")    "
   ]
  },
  {
   "cell_type": "code",
   "execution_count": 32,
   "id": "545c64b4",
   "metadata": {},
   "outputs": [
    {
     "name": "stdout",
     "output_type": "stream",
     "text": [
      "Siz chegirmaga ega buldingiz\n"
     ]
    }
   ],
   "source": [
    "products = ['Laptop', 'Monitor', 'mouse']\n",
    "product_sold = input(\"Nima sotib olgansan\")\n",
    "if product_sold in products:\n",
    "    print(\"Siz chegirmaga ega buldingiz\")\n",
    "else:\n",
    "    print(\"Sorry\")"
   ]
  },
  {
   "cell_type": "code",
   "execution_count": 33,
   "id": "c8edad4e",
   "metadata": {},
   "outputs": [
    {
     "name": "stdout",
     "output_type": "stream",
     "text": [
      "Sorry\n"
     ]
    }
   ],
   "source": [
    "products = ['Laptop', 'Monitor', 'mouse']\n",
    "product_sold = input(\"Nima sotib olgansan\")\n",
    "if product_sold in products:\n",
    "    print(\"Siz chegirmaga ega buldingiz\")\n",
    "else:\n",
    "    print(\"Sorry\")"
   ]
  },
  {
   "cell_type": "code",
   "execution_count": 34,
   "id": "817df9ba",
   "metadata": {},
   "outputs": [
    {
     "name": "stdout",
     "output_type": "stream",
     "text": [
      "Sorry\n"
     ]
    }
   ],
   "source": [
    "products = ['Laptop', 'Monitor', 'mouse']\n",
    "product_sold = input(\"Nima sotib olgansan\")\n",
    "if product_sold not in products:\n",
    "    print(\"Siz chegirmaga ega buldingiz\")\n",
    "else:\n",
    "    print(\"Sorry\")"
   ]
  },
  {
   "cell_type": "code",
   "execution_count": 41,
   "id": "3832b75b",
   "metadata": {},
   "outputs": [
    {
     "name": "stdout",
     "output_type": "stream",
     "text": [
      "bugun juma\n"
     ]
    }
   ],
   "source": [
    "kun = int(input(\"hafta kunini kiriting\"))\n",
    "if kun == 1:\n",
    "    print(\"bugun dushanba\")\n",
    "elif kun == 2:\n",
    "    print(\"bugun seshanba\")\n",
    "elif kun == 3:\n",
    "    print(\"bugun chorshanba\")\n",
    "elif kun == 4:\n",
    "    print(\"bugun payshanba\")\n",
    "elif kun == 5:\n",
    "    print(\"bugun juma\")\n",
    "elif kun == 6:\n",
    "    print(\"bugun shanba\")\n",
    "elif kun == 7:\n",
    "    print(\"bugun yakshanba\")\n",
    "else:\n",
    "    print(\"notugri malumot kiritding\")"
   ]
  },
  {
   "cell_type": "code",
   "execution_count": 44,
   "id": "9ebdc367",
   "metadata": {},
   "outputs": [
    {
     "name": "stdout",
     "output_type": "stream",
     "text": [
      "Oq yul\n"
     ]
    }
   ],
   "source": [
    "age = int(input(\"Yoshingni kirit\"))\n",
    "\n",
    "if age>=18:\n",
    "    yes_prava = input(\"Prova bormi: Ha or Yuk\")\n",
    "    if yes_prava == 'Ha':\n",
    "        print('Oq yul')\n",
    "    else:\n",
    "        print('Siz Prova olishingiz kerak')\n",
    "else:\n",
    "    print('Uzr, sizga ruxsat yuk')    \n"
   ]
  },
  {
   "cell_type": "code",
   "execution_count": null,
   "id": "2cbd8357",
   "metadata": {},
   "outputs": [],
   "source": []
  }
 ],
 "metadata": {
  "kernelspec": {
   "display_name": "Python 3",
   "language": "python",
   "name": "python3"
  },
  "language_info": {
   "codemirror_mode": {
    "name": "ipython",
    "version": 3
   },
   "file_extension": ".py",
   "mimetype": "text/x-python",
   "name": "python",
   "nbconvert_exporter": "python",
   "pygments_lexer": "ipython3",
   "version": "3.12.10"
  }
 },
 "nbformat": 4,
 "nbformat_minor": 5
}
