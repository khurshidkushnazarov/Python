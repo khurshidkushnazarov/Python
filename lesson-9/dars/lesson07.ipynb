{
 "cells": [
  {
   "cell_type": "markdown",
   "id": "d34253ee",
   "metadata": {},
   "source": [
    "Exeption handing and File Handling"
   ]
  },
  {
   "cell_type": "code",
   "execution_count": 3,
   "id": "7ea6e678",
   "metadata": {},
   "outputs": [
    {
     "name": "stdout",
     "output_type": "stream",
     "text": [
      "san value error bn xato qilding\n"
     ]
    }
   ],
   "source": [
    "try:\n",
    "    int('Husan')\n",
    "    pass\n",
    "except ValueError:\n",
    "    print('san value error bn xato qilding')\n"
   ]
  },
  {
   "cell_type": "code",
   "execution_count": 4,
   "id": "0511b383",
   "metadata": {},
   "outputs": [
    {
     "ename": "ValueError",
     "evalue": "invalid literal for int() with base 10: 'Husan'",
     "output_type": "error",
     "traceback": [
      "\u001b[31m---------------------------------------------------------------------------\u001b[39m",
      "\u001b[31mValueError\u001b[39m                                Traceback (most recent call last)",
      "\u001b[36mCell\u001b[39m\u001b[36m \u001b[39m\u001b[32mIn[4]\u001b[39m\u001b[32m, line 2\u001b[39m\n\u001b[32m      1\u001b[39m \u001b[38;5;28;01mtry\u001b[39;00m:\n\u001b[32m----> \u001b[39m\u001b[32m2\u001b[39m     \u001b[38;5;28;43mint\u001b[39;49m\u001b[43m(\u001b[49m\u001b[33;43m'\u001b[39;49m\u001b[33;43mHusan\u001b[39;49m\u001b[33;43m'\u001b[39;49m\u001b[43m)\u001b[49m\n\u001b[32m      3\u001b[39m     \u001b[38;5;28;01mpass\u001b[39;00m\n\u001b[32m      4\u001b[39m \u001b[38;5;28;01mexcept\u001b[39;00m \u001b[38;5;167;01mNameError\u001b[39;00m:\n",
      "\u001b[31mValueError\u001b[39m: invalid literal for int() with base 10: 'Husan'"
     ]
    }
   ],
   "source": [
    "try:\n",
    "    int('Husan')\n",
    "    pass\n",
    "except NameError:\n",
    "    print('san value error bn xato qilding')\n"
   ]
  },
  {
   "cell_type": "code",
   "execution_count": 6,
   "id": "9acd3aa7",
   "metadata": {},
   "outputs": [
    {
     "name": "stdout",
     "output_type": "stream",
     "text": [
      "san value error bn xato qilding\n"
     ]
    }
   ],
   "source": [
    "try:\n",
    "    int(ssss)\n",
    "    pass\n",
    "except NameError:\n",
    "    print('san value error bn xato qilding')\n"
   ]
  },
  {
   "cell_type": "code",
   "execution_count": 7,
   "id": "8b77bac3",
   "metadata": {},
   "outputs": [
    {
     "ename": "NameError",
     "evalue": "name 'Husan' is not defined",
     "output_type": "error",
     "traceback": [
      "\u001b[31m---------------------------------------------------------------------------\u001b[39m",
      "\u001b[31mNameError\u001b[39m                                 Traceback (most recent call last)",
      "\u001b[36mCell\u001b[39m\u001b[36m \u001b[39m\u001b[32mIn[7]\u001b[39m\u001b[32m, line 1\u001b[39m\n\u001b[32m----> \u001b[39m\u001b[32m1\u001b[39m \u001b[38;5;28mprint\u001b[39m(\u001b[38;5;28mint\u001b[39m(\u001b[43mHusan\u001b[49m))\n",
      "\u001b[31mNameError\u001b[39m: name 'Husan' is not defined"
     ]
    }
   ],
   "source": [
    "print(int(Husan))"
   ]
  },
  {
   "cell_type": "code",
   "execution_count": 8,
   "id": "c56cb406",
   "metadata": {},
   "outputs": [
    {
     "name": "stdout",
     "output_type": "stream",
     "text": [
      "san value error bn xato qilding\n"
     ]
    }
   ],
   "source": [
    "try:\n",
    "    name = 'alex'\n",
    "    print(name1)\n",
    "except (TypeError,NameError):\n",
    "    print('san value error bn xato qilding')"
   ]
  },
  {
   "cell_type": "code",
   "execution_count": null,
   "id": "a1a044d1",
   "metadata": {},
   "outputs": [],
   "source": [
    "try:\n",
    "    name = 'alex'\n",
    "    print(name1)\n",
    "except (TypeError,NameError):\n",
    "    print('san value error bn xato qilding')"
   ]
  },
  {
   "cell_type": "code",
   "execution_count": 9,
   "id": "f487809c",
   "metadata": {},
   "outputs": [
    {
     "name": "stdout",
     "output_type": "stream",
     "text": [
      "san value error bn xato qilding\n"
     ]
    }
   ],
   "source": [
    "try:\n",
    "    name = 'alex'\n",
    "    name + 20\n",
    "    print(name1)\n",
    "    print('Hello Uzb')\n",
    "except Exception:\n",
    "    print('san value error bn xato qilding')"
   ]
  },
  {
   "cell_type": "code",
   "execution_count": 10,
   "id": "887645f6",
   "metadata": {},
   "outputs": [],
   "source": [
    "try:\n",
    "    name = 'alex'\n",
    "    name + 20\n",
    "    print(name1)\n",
    "    print('Hello Uzb')\n",
    "except Exception:\n",
    "    pass"
   ]
  },
  {
   "cell_type": "code",
   "execution_count": 12,
   "id": "d3a05e03",
   "metadata": {},
   "outputs": [
    {
     "name": "stdout",
     "output_type": "stream",
     "text": [
      "Type error occured\n"
     ]
    }
   ],
   "source": [
    "try:\n",
    "    name = 'alex'\n",
    "    name + 20\n",
    "    print('Hello Uzb')\n",
    "except TypeError:\n",
    "    print('Type error occured')\n",
    "else:\n",
    "     print('Hello Python')"
   ]
  },
  {
   "cell_type": "code",
   "execution_count": null,
   "id": "e6b3ca93",
   "metadata": {},
   "outputs": [
    {
     "name": "stdout",
     "output_type": "stream",
     "text": [
      "Hello Uzb\n",
      "Hello Python\n"
     ]
    }
   ],
   "source": [
    "try:\n",
    "    name = 'alex'\n",
    "    #name + 20\n",
    "    print('Hello Uzb')         ### try da xato bulmasa else ishlidi\n",
    "except TypeError:                ## agar try da xato bulsa except ishlidi\n",
    "    print('Type error occured')\n",
    "else:\n",
    "     print('Hello Python')"
   ]
  },
  {
   "cell_type": "code",
   "execution_count": null,
   "id": "9237b465",
   "metadata": {},
   "outputs": [
    {
     "name": "stdout",
     "output_type": "stream",
     "text": [
      "Hello Uzb\n",
      "Hello Python\n",
      "toy tugadi hamma uyiga\n"
     ]
    }
   ],
   "source": [
    "try:\n",
    "    name = 'alex'\n",
    "    ## name + 20\n",
    "    print('Hello Uzb')         ### try da xato bulmasa else ishlidi\n",
    "except TypeError:                ## agar try da xato bulsa except ishlidi\n",
    "    print('Type error occured')\n",
    "else:\n",
    "     print('Hello Python')\n",
    "finally:                                 ### xato bulsa xam bulmasa xam ishlidi\n",
    "    print('toy tugadi hamma uyiga')"
   ]
  },
  {
   "cell_type": "code",
   "execution_count": null,
   "id": "3be8ef17",
   "metadata": {},
   "outputs": [],
   "source": [
    "### File handling ----- fayllar bn ishlash"
   ]
  },
  {
   "cell_type": "code",
   "execution_count": null,
   "id": "7d2dd0d5",
   "metadata": {},
   "outputs": [
    {
     "data": {
      "text/plain": [
       "'12333333 3333 333 \\n'"
      ]
     },
     "execution_count": 21,
     "metadata": {},
     "output_type": "execute_result"
    }
   ],
   "source": [
    "with open('xlz.txt','r') as f:\n",
    "    data = f.read()               ## hammasini ukiydi\n",
    "data"
   ]
  },
  {
   "cell_type": "code",
   "execution_count": null,
   "id": "4aed123b",
   "metadata": {},
   "outputs": [
    {
     "data": {
      "text/plain": [
       "'123'"
      ]
     },
     "execution_count": 22,
     "metadata": {},
     "output_type": "execute_result"
    }
   ],
   "source": [
    "with open('xlz.txt','r') as f:\n",
    "    data = f.read(3)            ## faqat 3 tasini ukiydi\n",
    "data"
   ]
  },
  {
   "cell_type": "code",
   "execution_count": null,
   "id": "635068a8",
   "metadata": {},
   "outputs": [
    {
     "data": {
      "text/plain": [
       "'333'"
      ]
     },
     "execution_count": 26,
     "metadata": {},
     "output_type": "execute_result"
    }
   ],
   "source": [
    "with open('xlz.txt','r') as f:\n",
    "    data = f.read(3)            ## faqat 3 tasini ukiydi\n",
    "    data2 = f.read(3)           ## faqat keyingi 3 tasini ukiydi(kegandan keyingi 3 tani)\n",
    "data2"
   ]
  },
  {
   "cell_type": "code",
   "execution_count": null,
   "id": "75bfa0fb",
   "metadata": {},
   "outputs": [
    {
     "data": {
      "text/plain": [
       "'man ketdim'"
      ]
     },
     "execution_count": 30,
     "metadata": {},
     "output_type": "execute_result"
    }
   ],
   "source": [
    "with open('C:\\\\1111111111\\\\fff.txt','r') as f:\n",
    "    data = f.read()            \n",
    "data"
   ]
  },
  {
   "cell_type": "code",
   "execution_count": 38,
   "id": "19ea35f9",
   "metadata": {},
   "outputs": [
    {
     "data": {
      "text/plain": [
       "'man'"
      ]
     },
     "execution_count": 38,
     "metadata": {},
     "output_type": "execute_result"
    }
   ],
   "source": [
    "with open('C:\\\\1111111111\\\\fff.txt','r') as f:\n",
    "    data = f.read(3)                          ## faqat 3 tasini ukiydi\n",
    "data"
   ]
  },
  {
   "cell_type": "code",
   "execution_count": 37,
   "id": "a957984b",
   "metadata": {},
   "outputs": [
    {
     "data": {
      "text/plain": [
       "'man'"
      ]
     },
     "execution_count": 37,
     "metadata": {},
     "output_type": "execute_result"
    }
   ],
   "source": [
    "with open(r'C:\\1111111111\\fff.txt','r') as f:\n",
    "    data = f.read(3)            ## faqat 3 tasini ukiydi\n",
    "data"
   ]
  },
  {
   "cell_type": "code",
   "execution_count": 39,
   "id": "388a437f",
   "metadata": {},
   "outputs": [
    {
     "name": "stdout",
     "output_type": "stream",
     "text": [
      "Uzbekiston \n",
      "Uzbekiston \n"
     ]
    }
   ],
   "source": [
    "with open('xlz.txt','r') as f:\n",
    "    data = f.read(11)\n",
    "    f.seek(0)           \n",
    "    data2 = f.read(11)       \n",
    "print(data)\n",
    "print(data2)"
   ]
  },
  {
   "cell_type": "code",
   "execution_count": 40,
   "id": "09ee59b8",
   "metadata": {},
   "outputs": [
    {
     "name": "stdout",
     "output_type": "stream",
     "text": [
      "Uzbekiston \n",
      "Uzbekiston \n",
      "iston buyuk\n"
     ]
    }
   ],
   "source": [
    "with open('xlz.txt','r') as f:\n",
    "    data = f.read(11)\n",
    "    f.seek(0)           \n",
    "    data2 = f.read(11)    \n",
    "    f.seek(5)\n",
    "    data3 = f.read(11)        \n",
    "print(data)\n",
    "print(data2)\n",
    "print(data3)"
   ]
  },
  {
   "cell_type": "code",
   "execution_count": 41,
   "id": "bcf8ea27",
   "metadata": {},
   "outputs": [
    {
     "name": "stdout",
     "output_type": "stream",
     "text": [
      "Uzbekiston \n",
      "Uzbekiston \n",
      "bekiston bu\n"
     ]
    }
   ],
   "source": [
    "with open('xlz.txt','r') as f:\n",
    "    data = f.read(11)\n",
    "    f.seek(0)           \n",
    "    data2 = f.read(11)    \n",
    "    f.seek(2)\n",
    "    data3 = f.read(11)        \n",
    "print(data)\n",
    "print(data2)\n",
    "print(data3)"
   ]
  },
  {
   "cell_type": "code",
   "execution_count": 43,
   "id": "f34ee1e6",
   "metadata": {},
   "outputs": [
    {
     "name": "stdout",
     "output_type": "stream",
     "text": [
      "Uzbekiston \n",
      "Uzbekiston \n",
      "bekiston\n"
     ]
    }
   ],
   "source": [
    "with open('xlz.txt','r') as f:\n",
    "    data = f.read(11)\n",
    "    f.seek(0)           \n",
    "    data2 = f.read(11)    \n",
    "    f.seek(2)\n",
    "    data3 = f.read(8)        \n",
    "print(data)\n",
    "print(data2)\n",
    "print(data3)"
   ]
  },
  {
   "cell_type": "code",
   "execution_count": null,
   "id": "ac92c769",
   "metadata": {},
   "outputs": [
    {
     "data": {
      "text/plain": [
       "'Akmal\\n'"
      ]
     },
     "execution_count": 44,
     "metadata": {},
     "output_type": "execute_result"
    }
   ],
   "source": [
    "with open('students.txt') as f:              ### 1 ta qatorni oladi\n",
    "    data = f.readline()\n",
    "data"
   ]
  },
  {
   "cell_type": "code",
   "execution_count": null,
   "id": "67e3f15c",
   "metadata": {},
   "outputs": [
    {
     "data": {
      "text/plain": [
       "'Bob\\n'"
      ]
     },
     "execution_count": 45,
     "metadata": {},
     "output_type": "execute_result"
    }
   ],
   "source": [
    "with open('students.txt') as f:       ### 1 ta qatorni oladi\n",
    "    data = f.readline()\n",
    "    data2 = f.readline()\n",
    "data2"
   ]
  },
  {
   "cell_type": "code",
   "execution_count": 46,
   "id": "6715b23a",
   "metadata": {},
   "outputs": [
    {
     "data": {
      "text/plain": [
       "['Akmal\\n', 'Bob\\n', 'Malika\\n', 'Sarvar']"
      ]
     },
     "execution_count": 46,
     "metadata": {},
     "output_type": "execute_result"
    }
   ],
   "source": [
    "with open('students.txt') as f:       ### 1 ta qatorni oladi\n",
    "    data = f.readlines()\n",
    "data"
   ]
  },
  {
   "cell_type": "code",
   "execution_count": null,
   "id": "072c4823",
   "metadata": {},
   "outputs": [],
   "source": [
    "with open ('Uzbekistan.txt','w') as f:  ### yozadi\n",
    "    f.write('Uzb is equal Uzb')\n"
   ]
  },
  {
   "cell_type": "code",
   "execution_count": 48,
   "id": "9409759e",
   "metadata": {},
   "outputs": [],
   "source": [
    "with open ('Uzbekistan.txt','w') as f:\n",
    "    f.write('fdgdf fgf ndgj')\n"
   ]
  },
  {
   "cell_type": "code",
   "execution_count": null,
   "id": "4f4d3ea4",
   "metadata": {},
   "outputs": [],
   "source": [
    "with open ('Uzbekistan.txt','a') as f:  #### kushadi append a ishlatdik\n",
    "    f.write('\\nUzb is equal Uzb')\n"
   ]
  }
 ],
 "metadata": {
  "kernelspec": {
   "display_name": "Python 3",
   "language": "python",
   "name": "python3"
  },
  "language_info": {
   "codemirror_mode": {
    "name": "ipython",
    "version": 3
   },
   "file_extension": ".py",
   "mimetype": "text/x-python",
   "name": "python",
   "nbconvert_exporter": "python",
   "pygments_lexer": "ipython3",
   "version": "3.12.10"
  }
 },
 "nbformat": 4,
 "nbformat_minor": 5
}
