{
 "cells": [
  {
   "cell_type": "markdown",
   "id": "96a93e17",
   "metadata": {},
   "source": [
    "## String, List, Tuple, Dictinary"
   ]
  },
  {
   "cell_type": "code",
   "execution_count": 53,
   "id": "9a20fcae",
   "metadata": {},
   "outputs": [],
   "source": [
    "# int, float, complex"
   ]
  },
  {
   "cell_type": "code",
   "execution_count": 54,
   "id": "6ff8d29c",
   "metadata": {},
   "outputs": [],
   "source": [
    "name = 'Azamat'\n",
    "full_name = \"Omonboyev Azamat\"\n",
    "malumot = '''We are learning python\n",
    "everything is fine\n",
    "khurshidbek\n",
    "rashidovich'''"
   ]
  },
  {
   "cell_type": "code",
   "execution_count": 55,
   "id": "f0667d7a",
   "metadata": {},
   "outputs": [],
   "source": [
    "name = \"A'lo\"\n",
    "name = 'A\\'lo'"
   ]
  },
  {
   "cell_type": "code",
   "execution_count": 56,
   "id": "facdbcb8",
   "metadata": {},
   "outputs": [
    {
     "data": {
      "text/plain": [
       "'e'"
      ]
     },
     "execution_count": 56,
     "metadata": {},
     "output_type": "execute_result"
    }
   ],
   "source": [
    "country = \"Uzbekistan\"\n",
    "country[3]"
   ]
  },
  {
   "cell_type": "code",
   "execution_count": 57,
   "id": "173aae79",
   "metadata": {},
   "outputs": [
    {
     "data": {
      "text/plain": [
       "'bek'"
      ]
     },
     "execution_count": 57,
     "metadata": {},
     "output_type": "execute_result"
    }
   ],
   "source": [
    "country = \"Uzbekistan\"\n",
    "# indexing --- 1 ta harf\n",
    "#slicing --- bir necha xarf\n",
    "country[1]\n",
    "country[:]\n",
    "country[5:]\n",
    "country[2:5]"
   ]
  },
  {
   "cell_type": "code",
   "execution_count": 58,
   "id": "d9d64305",
   "metadata": {},
   "outputs": [
    {
     "data": {
      "text/plain": [
       "'beki'"
      ]
     },
     "execution_count": 58,
     "metadata": {},
     "output_type": "execute_result"
    }
   ],
   "source": [
    "country[2:6]"
   ]
  },
  {
   "cell_type": "code",
   "execution_count": 59,
   "id": "147167ad",
   "metadata": {},
   "outputs": [
    {
     "data": {
      "text/plain": [
       "'Ubk'"
      ]
     },
     "execution_count": 59,
     "metadata": {},
     "output_type": "execute_result"
    }
   ],
   "source": [
    "country[0:6:2]"
   ]
  },
  {
   "cell_type": "code",
   "execution_count": 60,
   "id": "a43193e7",
   "metadata": {},
   "outputs": [
    {
     "data": {
      "text/plain": [
       "'Uzb'"
      ]
     },
     "execution_count": 60,
     "metadata": {},
     "output_type": "execute_result"
    }
   ],
   "source": [
    "country[0:3:1]"
   ]
  },
  {
   "cell_type": "code",
   "execution_count": 61,
   "id": "d8ae61c7",
   "metadata": {},
   "outputs": [
    {
     "data": {
      "text/plain": [
       "'Malibu'"
      ]
     },
     "execution_count": 61,
     "metadata": {},
     "output_type": "execute_result"
    }
   ],
   "source": [
    "txt ='LMaasleitbtui'\n",
    "txt[1::2]"
   ]
  },
  {
   "cell_type": "code",
   "execution_count": 62,
   "id": "1b1fa7e9",
   "metadata": {},
   "outputs": [
    {
     "data": {
      "text/plain": [
       "'Lasetti'"
      ]
     },
     "execution_count": 62,
     "metadata": {},
     "output_type": "execute_result"
    }
   ],
   "source": [
    "txt[0::2]"
   ]
  },
  {
   "cell_type": "code",
   "execution_count": 63,
   "id": "87938adc",
   "metadata": {},
   "outputs": [
    {
     "name": "stdout",
     "output_type": "stream",
     "text": [
      "Hello Azamat How are you\n"
     ]
    }
   ],
   "source": [
    "msg = 'Hello Azamat How are you'\n",
    "print(msg)"
   ]
  },
  {
   "cell_type": "code",
   "execution_count": 64,
   "id": "5c5c080d",
   "metadata": {},
   "outputs": [
    {
     "name": "stdout",
     "output_type": "stream",
     "text": [
      "Hello Akmal, How are you\n"
     ]
    }
   ],
   "source": [
    "msg = 'Hello {}, How are you'.format(\"Akmal\")\n",
    "print(msg)"
   ]
  },
  {
   "cell_type": "code",
   "execution_count": 65,
   "id": "bf5cd58a",
   "metadata": {},
   "outputs": [
    {
     "name": "stdout",
     "output_type": "stream",
     "text": [
      "My name is xusan and I am SQL developer\n"
     ]
    }
   ],
   "source": [
    "msg = \"My name is {} and I am {} developer\".format(\"xusan\", \"SQL\")\n",
    "print(msg)"
   ]
  },
  {
   "cell_type": "code",
   "execution_count": 66,
   "id": "e3572bf5",
   "metadata": {},
   "outputs": [
    {
     "name": "stdout",
     "output_type": "stream",
     "text": [
      "My name is xusan and I am SQL developer\n"
     ]
    }
   ],
   "source": [
    "msg = \"My name is {1} and I am {0} developer\".format(\"SQL\", \"xusan\")\n",
    "print(msg)"
   ]
  },
  {
   "cell_type": "code",
   "execution_count": 67,
   "id": "53f53edf",
   "metadata": {},
   "outputs": [
    {
     "name": "stdout",
     "output_type": "stream",
     "text": [
      "My name is Azam and I am SQL developer\n"
     ]
    }
   ],
   "source": [
    "name = \"Azam\"\n",
    "tool = \"SQL\"\n",
    "\n",
    "msg = f\"My name is {name} and I am {tool} developer\"\n",
    "print(msg)"
   ]
  },
  {
   "cell_type": "code",
   "execution_count": 68,
   "id": "c0facf2e",
   "metadata": {},
   "outputs": [
    {
     "data": {
      "text/plain": [
       "'UZBEKISTAN'"
      ]
     },
     "execution_count": 68,
     "metadata": {},
     "output_type": "execute_result"
    }
   ],
   "source": [
    "country = \"Uzbekistan\"\n",
    "country.upper()\n"
   ]
  },
  {
   "cell_type": "code",
   "execution_count": 69,
   "id": "3100e76e",
   "metadata": {},
   "outputs": [
    {
     "data": {
      "text/plain": [
       "1"
      ]
     },
     "execution_count": 69,
     "metadata": {},
     "output_type": "execute_result"
    }
   ],
   "source": [
    "country = \"Uzbekistan\"\n",
    "country.count(\"b\")"
   ]
  },
  {
   "cell_type": "code",
   "execution_count": 70,
   "id": "2a66b9d6",
   "metadata": {},
   "outputs": [
    {
     "data": {
      "text/plain": [
       "5"
      ]
     },
     "execution_count": 70,
     "metadata": {},
     "output_type": "execute_result"
    }
   ],
   "source": [
    "kv = \"avvvvvaghhhh\"\n",
    "kv.count(\"v\")"
   ]
  },
  {
   "cell_type": "code",
   "execution_count": 71,
   "id": "2c8d1306",
   "metadata": {},
   "outputs": [
    {
     "ename": "TypeError",
     "evalue": "'str' object does not support item assignment",
     "output_type": "error",
     "traceback": [
      "\u001b[31m---------------------------------------------------------------------------\u001b[39m",
      "\u001b[31mTypeError\u001b[39m                                 Traceback (most recent call last)",
      "\u001b[36mCell\u001b[39m\u001b[36m \u001b[39m\u001b[32mIn[71]\u001b[39m\u001b[32m, line 2\u001b[39m\n\u001b[32m      1\u001b[39m name = \u001b[33m\"\u001b[39m\u001b[33mAzamat\u001b[39m\u001b[33m\"\u001b[39m\n\u001b[32m----> \u001b[39m\u001b[32m2\u001b[39m \u001b[43mname\u001b[49m\u001b[43m[\u001b[49m\u001b[32;43m2\u001b[39;49m\u001b[43m]\u001b[49m = \u001b[33m'\u001b[39m\u001b[33mo\u001b[39m\u001b[33m'\u001b[39m\n",
      "\u001b[31mTypeError\u001b[39m: 'str' object does not support item assignment"
     ]
    }
   ],
   "source": [
    "name = \"Azamat\"\n",
    "name[2] = 'o'"
   ]
  },
  {
   "cell_type": "code",
   "execution_count": null,
   "id": "cf5ac5fb",
   "metadata": {},
   "outputs": [
    {
     "data": {
      "text/plain": [
       "'Xasan'"
      ]
     },
     "execution_count": 49,
     "metadata": {},
     "output_type": "execute_result"
    }
   ],
   "source": [
    "name = \"Xusan\"\n",
    "name[0] + \"a\" + name[2:]\n"
   ]
  },
  {
   "cell_type": "code",
   "execution_count": null,
   "id": "1d9efecf",
   "metadata": {},
   "outputs": [
    {
     "data": {
      "text/plain": [
       "'Tashkentmalibu'"
      ]
     },
     "execution_count": 50,
     "metadata": {},
     "output_type": "execute_result"
    }
   ],
   "source": [
    "city = 'Tashkent'\n",
    "car = 'malibu'\n",
    "city + car"
   ]
  },
  {
   "cell_type": "code",
   "execution_count": null,
   "id": "510daf5f",
   "metadata": {},
   "outputs": [
    {
     "data": {
      "text/plain": [
       "'TashkentTashkentTashkentTashkentTashkentTashkentTashkentTashkentTashkentTashkent'"
      ]
     },
     "execution_count": 51,
     "metadata": {},
     "output_type": "execute_result"
    }
   ],
   "source": [
    "city = 'Tashkent'\n",
    "city*10"
   ]
  },
  {
   "cell_type": "code",
   "execution_count": null,
   "id": "a4ba239e",
   "metadata": {},
   "outputs": [
    {
     "data": {
      "text/plain": [
       "'Tashkent Tashkent Tashkent Tashkent Tashkent Tashkent Tashkent Tashkent Tashkent Tashkent '"
      ]
     },
     "execution_count": 52,
     "metadata": {},
     "output_type": "execute_result"
    }
   ],
   "source": [
    "city = 'Tashkent '\n",
    "city*10"
   ]
  },
  {
   "cell_type": "code",
   "execution_count": null,
   "id": "ae616696",
   "metadata": {},
   "outputs": [],
   "source": [
    "## LIST"
   ]
  },
  {
   "cell_type": "markdown",
   "id": "212a97fc",
   "metadata": {},
   "source": [
    "## LIST\n",
    "ls"
   ]
  },
  {
   "cell_type": "code",
   "execution_count": 72,
   "id": "c13bb019",
   "metadata": {},
   "outputs": [
    {
     "data": {
      "text/plain": [
       "[1, 2, 3, 4, 5]"
      ]
     },
     "execution_count": 72,
     "metadata": {},
     "output_type": "execute_result"
    }
   ],
   "source": [
    "ls = [1,2,3,4,5]\n",
    "ls"
   ]
  },
  {
   "cell_type": "code",
   "execution_count": 73,
   "id": "6d9867f8",
   "metadata": {},
   "outputs": [
    {
     "data": {
      "text/plain": [
       "[1, 2, 3, 4, 5, 'Mali']"
      ]
     },
     "execution_count": 73,
     "metadata": {},
     "output_type": "execute_result"
    }
   ],
   "source": [
    "ls.append(\"Mali\")\n",
    "ls"
   ]
  },
  {
   "cell_type": "code",
   "execution_count": 75,
   "id": "920e0f0d",
   "metadata": {},
   "outputs": [
    {
     "data": {
      "text/plain": [
       "[1, 2, 3, 4, 5, 'Mali', 'Mali']"
      ]
     },
     "execution_count": 75,
     "metadata": {},
     "output_type": "execute_result"
    }
   ],
   "source": [
    "ls.append(\"Mali\")\n",
    "ls"
   ]
  },
  {
   "cell_type": "code",
   "execution_count": 78,
   "id": "694528ef",
   "metadata": {},
   "outputs": [
    {
     "data": {
      "text/plain": [
       "['Malibu', 'Malibu', 1, 2, 3, 4, 5, 'Mali', 'Mali']"
      ]
     },
     "execution_count": 78,
     "metadata": {},
     "output_type": "execute_result"
    }
   ],
   "source": [
    "ls.insert(0,\"Malibu\")\n",
    "ls"
   ]
  },
  {
   "cell_type": "code",
   "execution_count": 79,
   "id": "793cf6f0",
   "metadata": {},
   "outputs": [
    {
     "data": {
      "text/plain": [
       "['Malibu', 'Malibu', 'Malibu', 1, 2, 3, 4, 5, 'Mali', 'Mali']"
      ]
     },
     "execution_count": 79,
     "metadata": {},
     "output_type": "execute_result"
    }
   ],
   "source": [
    "ls.insert(0,\"Malibu\")\n",
    "ls"
   ]
  },
  {
   "cell_type": "code",
   "execution_count": 80,
   "id": "a5132084",
   "metadata": {},
   "outputs": [
    {
     "data": {
      "text/plain": [
       "[1, 2, 3, 4, 'a', 'b', 'c']"
      ]
     },
     "execution_count": 80,
     "metadata": {},
     "output_type": "execute_result"
    }
   ],
   "source": [
    "ls1 = [1,2,3,4]\n",
    "ls2 = ['a','b','c']\n",
    "\n",
    "ls1.extend(ls2)\n",
    "ls1"
   ]
  },
  {
   "cell_type": "code",
   "execution_count": 81,
   "id": "d08f968e",
   "metadata": {},
   "outputs": [
    {
     "data": {
      "text/plain": [
       "[1, 2, 3, 4, ['a', 'b', 'c']]"
      ]
     },
     "execution_count": 81,
     "metadata": {},
     "output_type": "execute_result"
    }
   ],
   "source": [
    "ls1 = [1,2,3,4]\n",
    "ls2 = ['a','b','c']\n",
    "\n",
    "ls1.append(ls2)\n",
    "ls1"
   ]
  },
  {
   "cell_type": "code",
   "execution_count": 82,
   "id": "823d10af",
   "metadata": {},
   "outputs": [
    {
     "data": {
      "text/plain": [
       "'IamSQLdeveloper'"
      ]
     },
     "execution_count": 82,
     "metadata": {},
     "output_type": "execute_result"
    }
   ],
   "source": [
    "ls_to_str = ['I','am','SQL', 'developer']\n",
    "''.join(ls_to_str)"
   ]
  },
  {
   "cell_type": "code",
   "execution_count": 83,
   "id": "6f50ffae",
   "metadata": {},
   "outputs": [
    {
     "data": {
      "text/plain": [
       "'I am SQL developer'"
      ]
     },
     "execution_count": 83,
     "metadata": {},
     "output_type": "execute_result"
    }
   ],
   "source": [
    "ls_to_str = ['I','am','SQL', 'developer']\n",
    "' '.join(ls_to_str)"
   ]
  },
  {
   "cell_type": "code",
   "execution_count": 84,
   "id": "1c907893",
   "metadata": {},
   "outputs": [
    {
     "data": {
      "text/plain": [
       "'I rr am rr SQL rr developer'"
      ]
     },
     "execution_count": 84,
     "metadata": {},
     "output_type": "execute_result"
    }
   ],
   "source": [
    "ls_to_str = ['I','am','SQL', 'developer']\n",
    "' rr '.join(ls_to_str)"
   ]
  },
  {
   "cell_type": "code",
   "execution_count": 85,
   "id": "6e6ce691",
   "metadata": {},
   "outputs": [
    {
     "data": {
      "text/plain": [
       "'I/am/SQL/developer'"
      ]
     },
     "execution_count": 85,
     "metadata": {},
     "output_type": "execute_result"
    }
   ],
   "source": [
    "ls_to_str = ['I','am','SQL', 'developer']\n",
    "'/'.join(ls_to_str)"
   ]
  },
  {
   "cell_type": "code",
   "execution_count": 96,
   "id": "519a4e81",
   "metadata": {},
   "outputs": [
    {
     "data": {
      "text/plain": [
       "['I', 'am', 'SQL', 'developer']"
      ]
     },
     "execution_count": 96,
     "metadata": {},
     "output_type": "execute_result"
    }
   ],
   "source": [
    "msg = \"I am SQL developer\"\n",
    "msg.split(\" \")\n"
   ]
  }
 ],
 "metadata": {
  "kernelspec": {
   "display_name": "Python 3",
   "language": "python",
   "name": "python3"
  },
  "language_info": {
   "codemirror_mode": {
    "name": "ipython",
    "version": 3
   },
   "file_extension": ".py",
   "mimetype": "text/x-python",
   "name": "python",
   "nbconvert_exporter": "python",
   "pygments_lexer": "ipython3",
   "version": "3.12.10"
  }
 },
 "nbformat": 4,
 "nbformat_minor": 5
}
