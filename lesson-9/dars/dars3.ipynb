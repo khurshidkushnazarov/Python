{
 "cells": [
  {
   "cell_type": "markdown",
   "id": "e432e857",
   "metadata": {},
   "source": [
    "## Dictionary, tuple, set, if"
   ]
  },
  {
   "cell_type": "code",
   "execution_count": 1,
   "id": "75f27355",
   "metadata": {},
   "outputs": [
    {
     "data": {
      "text/plain": [
       "[5, 4, 3, 2, 1]"
      ]
     },
     "execution_count": 1,
     "metadata": {},
     "output_type": "execute_result"
    }
   ],
   "source": [
    "ls = [1,2,3,4,5]\n",
    "ls[::-1]"
   ]
  },
  {
   "cell_type": "code",
   "execution_count": 2,
   "id": "79097846",
   "metadata": {},
   "outputs": [
    {
     "data": {
      "text/plain": [
       "'NATSIKEBZU'"
      ]
     },
     "execution_count": 2,
     "metadata": {},
     "output_type": "execute_result"
    }
   ],
   "source": [
    "country = \"UZBEKISTAN\"\n",
    "country[::-1]"
   ]
  },
  {
   "cell_type": "code",
   "execution_count": 3,
   "id": "2d2e8a23",
   "metadata": {},
   "outputs": [
    {
     "data": {
      "text/plain": [
       "[5, 4, 3, 2, 1]"
      ]
     },
     "execution_count": 3,
     "metadata": {},
     "output_type": "execute_result"
    }
   ],
   "source": [
    "ls.reverse()\n",
    "ls"
   ]
  },
  {
   "cell_type": "code",
   "execution_count": 4,
   "id": "3e488e11",
   "metadata": {},
   "outputs": [
    {
     "data": {
      "text/plain": [
       "'UZBEKISTAN'"
      ]
     },
     "execution_count": 4,
     "metadata": {},
     "output_type": "execute_result"
    }
   ],
   "source": [
    "ls.reverse()\n",
    "country"
   ]
  },
  {
   "cell_type": "code",
   "execution_count": 5,
   "id": "1c897ab3",
   "metadata": {},
   "outputs": [
    {
     "data": {
      "text/plain": [
       "[5, 4, 3, 2, 1]"
      ]
     },
     "execution_count": 5,
     "metadata": {},
     "output_type": "execute_result"
    }
   ],
   "source": [
    "list(reversed(ls))"
   ]
  },
  {
   "cell_type": "code",
   "execution_count": 6,
   "id": "dc3d17b4",
   "metadata": {},
   "outputs": [
    {
     "data": {
      "text/plain": [
       "['N', 'A', 'T', 'S', 'I', 'K', 'E', 'B', 'Z', 'U']"
      ]
     },
     "execution_count": 6,
     "metadata": {},
     "output_type": "execute_result"
    }
   ],
   "source": [
    "list(reversed(country))"
   ]
  },
  {
   "cell_type": "code",
   "execution_count": 7,
   "id": "c5a46457",
   "metadata": {},
   "outputs": [
    {
     "data": {
      "text/plain": [
       "'<reversed object at 0x000001C5687E2E60>'"
      ]
     },
     "execution_count": 7,
     "metadata": {},
     "output_type": "execute_result"
    }
   ],
   "source": [
    "str(reversed(country))"
   ]
  },
  {
   "cell_type": "code",
   "execution_count": 8,
   "id": "faa306c6",
   "metadata": {},
   "outputs": [
    {
     "data": {
      "text/plain": [
       "'NATSIKEBZU'"
      ]
     },
     "execution_count": 8,
     "metadata": {},
     "output_type": "execute_result"
    }
   ],
   "source": [
    "''.join(list(reversed(country)))"
   ]
  },
  {
   "cell_type": "code",
   "execution_count": null,
   "id": "6df2f1dd",
   "metadata": {},
   "outputs": [],
   "source": [
    "## Function --- malum bir amalni bajaradi (print,type, reversed)va mustaqil foydalansa buladi\n",
    "## Method --- malum bir amalni bajaradi (upper: str, append: list, ) biror bir data type ga boglik ishlaydi, mustaqil ishlay olmaydi"
   ]
  },
  {
   "cell_type": "code",
   "execution_count": 11,
   "id": "4d225cc4",
   "metadata": {},
   "outputs": [
    {
     "data": {
      "text/plain": [
       "[1, 2, 3, 4, 5, 6, 7, 8, 9]"
      ]
     },
     "execution_count": 11,
     "metadata": {},
     "output_type": "execute_result"
    }
   ],
   "source": [
    "ls = [2,1,5,4,6,3,7,9,8]\n",
    "ls.sort()\n",
    "ls"
   ]
  },
  {
   "cell_type": "code",
   "execution_count": 12,
   "id": "e1f2e378",
   "metadata": {},
   "outputs": [
    {
     "data": {
      "text/plain": [
       "['Akmal', 'Anvar', 'Bobir', 'Sobir']"
      ]
     },
     "execution_count": 12,
     "metadata": {},
     "output_type": "execute_result"
    }
   ],
   "source": [
    "name = ['Akmal', 'Sobir','Bobir','Anvar']\n",
    "name.sort()\n",
    "name"
   ]
  },
  {
   "cell_type": "markdown",
   "id": "cd6e7933",
   "metadata": {},
   "source": [
    "## Dictionary"
   ]
  },
  {
   "cell_type": "code",
   "execution_count": 15,
   "id": "d5447dab",
   "metadata": {},
   "outputs": [],
   "source": [
    "d = {\"name\":\"Mamur\",\"Department\":\"Business\",\"Age\":40,\"Salary\":1000}"
   ]
  },
  {
   "cell_type": "code",
   "execution_count": null,
   "id": "9cbea3c7",
   "metadata": {},
   "outputs": [],
   "source": [
    "## key should be immutable(ozgarmas) and you can use only STR and TUPLE\n",
    "\n",
    "## values uchun istalgan data tipini ishlatsa buladi(str, int, list, dict)"
   ]
  },
  {
   "cell_type": "code",
   "execution_count": 16,
   "id": "3e1848bc",
   "metadata": {},
   "outputs": [
    {
     "data": {
      "text/plain": [
       "dict_keys(['name', 'Department', 'Age', 'Salary'])"
      ]
     },
     "execution_count": 16,
     "metadata": {},
     "output_type": "execute_result"
    }
   ],
   "source": [
    "d.keys()"
   ]
  },
  {
   "cell_type": "code",
   "execution_count": 17,
   "id": "3b996772",
   "metadata": {},
   "outputs": [
    {
     "data": {
      "text/plain": [
       "dict_values(['Mamur', 'Business', 40, 1000])"
      ]
     },
     "execution_count": 17,
     "metadata": {},
     "output_type": "execute_result"
    }
   ],
   "source": [
    "d.values()"
   ]
  },
  {
   "cell_type": "code",
   "execution_count": 18,
   "id": "b79ef07b",
   "metadata": {},
   "outputs": [],
   "source": [
    "d[\"Experience\"]=30"
   ]
  },
  {
   "cell_type": "code",
   "execution_count": 19,
   "id": "2375a273",
   "metadata": {},
   "outputs": [
    {
     "data": {
      "text/plain": [
       "{'name': 'Mamur',\n",
       " 'Department': 'Business',\n",
       " 'Age': 40,\n",
       " 'Salary': 1000,\n",
       " 'Experience': 30}"
      ]
     },
     "execution_count": 19,
     "metadata": {},
     "output_type": "execute_result"
    }
   ],
   "source": [
    "d"
   ]
  },
  {
   "cell_type": "code",
   "execution_count": 20,
   "id": "403b60e9",
   "metadata": {},
   "outputs": [
    {
     "data": {
      "text/plain": [
       "1000"
      ]
     },
     "execution_count": 20,
     "metadata": {},
     "output_type": "execute_result"
    }
   ],
   "source": [
    "d[\"Salary\"]"
   ]
  },
  {
   "cell_type": "code",
   "execution_count": 21,
   "id": "837f0d47",
   "metadata": {},
   "outputs": [
    {
     "data": {
      "text/plain": [
       "'Mamur'"
      ]
     },
     "execution_count": 21,
     "metadata": {},
     "output_type": "execute_result"
    }
   ],
   "source": [
    "d[\"name\"]"
   ]
  },
  {
   "cell_type": "code",
   "execution_count": 22,
   "id": "bb92397d",
   "metadata": {},
   "outputs": [
    {
     "data": {
      "text/plain": [
       "1"
      ]
     },
     "execution_count": 22,
     "metadata": {},
     "output_type": "execute_result"
    }
   ],
   "source": [
    "ls[0]"
   ]
  },
  {
   "cell_type": "code",
   "execution_count": 24,
   "id": "d319e1b1",
   "metadata": {},
   "outputs": [
    {
     "data": {
      "text/plain": [
       "'Business'"
      ]
     },
     "execution_count": 24,
     "metadata": {},
     "output_type": "execute_result"
    }
   ],
   "source": [
    "d[\"Department\"]"
   ]
  },
  {
   "cell_type": "code",
   "execution_count": 25,
   "id": "a0406fd7",
   "metadata": {},
   "outputs": [
    {
     "data": {
      "text/plain": [
       "40"
      ]
     },
     "execution_count": 25,
     "metadata": {},
     "output_type": "execute_result"
    }
   ],
   "source": [
    "d[\"Age\"]"
   ]
  },
  {
   "cell_type": "code",
   "execution_count": 26,
   "id": "8d29f3bc",
   "metadata": {},
   "outputs": [],
   "source": [
    "d.update({\"Salary\":200000})"
   ]
  },
  {
   "cell_type": "code",
   "execution_count": 27,
   "id": "95aa52f1",
   "metadata": {},
   "outputs": [
    {
     "data": {
      "text/plain": [
       "{'name': 'Mamur',\n",
       " 'Department': 'Business',\n",
       " 'Age': 40,\n",
       " 'Salary': 200000,\n",
       " 'Experience': 30}"
      ]
     },
     "execution_count": 27,
     "metadata": {},
     "output_type": "execute_result"
    }
   ],
   "source": [
    "d"
   ]
  },
  {
   "cell_type": "code",
   "execution_count": 28,
   "id": "09d0e0ea",
   "metadata": {},
   "outputs": [],
   "source": [
    "del d [\"Salary\"]"
   ]
  },
  {
   "cell_type": "code",
   "execution_count": 29,
   "id": "e7eeeb80",
   "metadata": {},
   "outputs": [
    {
     "data": {
      "text/plain": [
       "{'name': 'Mamur', 'Department': 'Business', 'Age': 40, 'Experience': 30}"
      ]
     },
     "execution_count": 29,
     "metadata": {},
     "output_type": "execute_result"
    }
   ],
   "source": [
    "d"
   ]
  },
  {
   "cell_type": "code",
   "execution_count": 30,
   "id": "d47099a1",
   "metadata": {},
   "outputs": [
    {
     "data": {
      "text/plain": [
       "'Business'"
      ]
     },
     "execution_count": 30,
     "metadata": {},
     "output_type": "execute_result"
    }
   ],
   "source": [
    "d.get(\"Department\")"
   ]
  },
  {
   "cell_type": "code",
   "execution_count": 31,
   "id": "593a7f89",
   "metadata": {},
   "outputs": [],
   "source": [
    "d[\"books\"] = [\"Otkan kunlar\",\"Molxona\",\"MEN\"]"
   ]
  },
  {
   "cell_type": "code",
   "execution_count": 32,
   "id": "f5f9c760",
   "metadata": {},
   "outputs": [
    {
     "data": {
      "text/plain": [
       "{'name': 'Mamur',\n",
       " 'Department': 'Business',\n",
       " 'Age': 40,\n",
       " 'Experience': 30,\n",
       " 'books': ['Otkan kunlar', 'Molxona', 'MEN']}"
      ]
     },
     "execution_count": 32,
     "metadata": {},
     "output_type": "execute_result"
    }
   ],
   "source": [
    "d"
   ]
  },
  {
   "cell_type": "code",
   "execution_count": 43,
   "id": "c6172f77",
   "metadata": {},
   "outputs": [],
   "source": [
    "del d [\"books\"]"
   ]
  },
  {
   "cell_type": "code",
   "execution_count": 44,
   "id": "e2fa95ef",
   "metadata": {},
   "outputs": [
    {
     "data": {
      "text/plain": [
       "{'name': 'Mamur',\n",
       " 'Department': 'Business',\n",
       " 'Age': 40,\n",
       " 'Experience': 30,\n",
       " 'familymembers': {'name': 'Akamal', 'Age': 56, 'relative': 'uncle'}}"
      ]
     },
     "execution_count": 44,
     "metadata": {},
     "output_type": "execute_result"
    }
   ],
   "source": [
    "d"
   ]
  },
  {
   "cell_type": "code",
   "execution_count": 45,
   "id": "adbb3e13",
   "metadata": {},
   "outputs": [],
   "source": [
    "del d [\"familymembers\"]"
   ]
  },
  {
   "cell_type": "code",
   "execution_count": 46,
   "id": "0678e5b7",
   "metadata": {},
   "outputs": [
    {
     "data": {
      "text/plain": [
       "{'name': 'Mamur', 'Department': 'Business', 'Age': 40, 'Experience': 30}"
      ]
     },
     "execution_count": 46,
     "metadata": {},
     "output_type": "execute_result"
    }
   ],
   "source": [
    "d"
   ]
  },
  {
   "cell_type": "code",
   "execution_count": 33,
   "id": "d4b26206",
   "metadata": {},
   "outputs": [],
   "source": [
    "d[\"familymembers\"] = {\"name\":\"Akamal\",\"Age\":56,\"relative\":\"uncle\"}"
   ]
  },
  {
   "cell_type": "code",
   "execution_count": 34,
   "id": "3e07b99d",
   "metadata": {},
   "outputs": [
    {
     "data": {
      "text/plain": [
       "{'name': 'Mamur',\n",
       " 'Department': 'Business',\n",
       " 'Age': 40,\n",
       " 'Experience': 30,\n",
       " 'books': ['Otkan kunlar', 'Molxona', 'MEN'],\n",
       " 'familymembers': {'name': 'Akamal', 'Age': 56, 'relative': 'uncle'}}"
      ]
     },
     "execution_count": 34,
     "metadata": {},
     "output_type": "execute_result"
    }
   ],
   "source": [
    "d"
   ]
  },
  {
   "cell_type": "code",
   "execution_count": 39,
   "id": "70d9f69e",
   "metadata": {},
   "outputs": [
    {
     "data": {
      "text/plain": [
       "{'name': 'Akamal', 'Age': 56, 'relative': 'uncle'}"
      ]
     },
     "execution_count": 39,
     "metadata": {},
     "output_type": "execute_result"
    }
   ],
   "source": [
    "d.get(\"familymembers\")"
   ]
  },
  {
   "cell_type": "code",
   "execution_count": 40,
   "id": "65176470",
   "metadata": {},
   "outputs": [
    {
     "data": {
      "text/plain": [
       "56"
      ]
     },
     "execution_count": 40,
     "metadata": {},
     "output_type": "execute_result"
    }
   ],
   "source": [
    "d[\"familymembers\"][\"Age\"]"
   ]
  },
  {
   "cell_type": "code",
   "execution_count": 41,
   "id": "6dd38170",
   "metadata": {},
   "outputs": [
    {
     "data": {
      "text/plain": [
       "'uncle'"
      ]
     },
     "execution_count": 41,
     "metadata": {},
     "output_type": "execute_result"
    }
   ],
   "source": [
    "d[\"familymembers\"][\"relative\"]"
   ]
  },
  {
   "cell_type": "code",
   "execution_count": 42,
   "id": "fe63565a",
   "metadata": {},
   "outputs": [
    {
     "data": {
      "text/plain": [
       "'Akamal'"
      ]
     },
     "execution_count": 42,
     "metadata": {},
     "output_type": "execute_result"
    }
   ],
   "source": [
    "d[\"familymembers\"][\"name\"]"
   ]
  },
  {
   "cell_type": "code",
   "execution_count": null,
   "id": "383e43ca",
   "metadata": {},
   "outputs": [],
   "source": [
    "with open(\"employee.csv\", 'W') as filter\n",
    "   columns"
   ]
  },
  {
   "cell_type": "code",
   "execution_count": null,
   "id": "1497576a",
   "metadata": {},
   "outputs": [],
   "source": []
  },
  {
   "cell_type": "markdown",
   "id": "aebf3b44",
   "metadata": {},
   "source": [
    "## TUPLE"
   ]
  },
  {
   "cell_type": "code",
   "execution_count": 48,
   "id": "d52318a3",
   "metadata": {},
   "outputs": [
    {
     "name": "stdout",
     "output_type": "stream",
     "text": [
      "<class 'int'>\n",
      "<class 'tuple'>\n",
      "1\n",
      "(1,)\n"
     ]
    }
   ],
   "source": [
    "a=1\n",
    "b=1,\n",
    "print(type(a))\n",
    "print(type(b))\n",
    "print(a)\n",
    "print(b)"
   ]
  },
  {
   "cell_type": "code",
   "execution_count": 49,
   "id": "0b007609",
   "metadata": {},
   "outputs": [
    {
     "name": "stdout",
     "output_type": "stream",
     "text": [
      "<class 'int'>\n",
      "<class 'int'>\n",
      "1\n",
      "1\n"
     ]
    }
   ],
   "source": [
    "a=1\n",
    "b=1\n",
    "print(type(a))\n",
    "print(type(b))\n",
    "print(a)\n",
    "print(b)"
   ]
  },
  {
   "cell_type": "code",
   "execution_count": 51,
   "id": "cfbf1e51",
   "metadata": {},
   "outputs": [
    {
     "name": "stdout",
     "output_type": "stream",
     "text": [
      "<class 'int'>\n",
      "<class 'tuple'>\n",
      "1\n",
      "(1, 2, 6, 7, 'kkkk', 'oppp', True)\n"
     ]
    }
   ],
   "source": [
    "a=1\n",
    "b=(1,2,6,7,'kkkk','oppp',True)\n",
    "print(type(a))\n",
    "print(type(b))\n",
    "print(a)\n",
    "print(b)"
   ]
  },
  {
   "cell_type": "code",
   "execution_count": 52,
   "id": "a7ea1a4b",
   "metadata": {},
   "outputs": [],
   "source": [
    "name = 'Azamat'\n",
    "age = 98"
   ]
  },
  {
   "cell_type": "code",
   "execution_count": 53,
   "id": "4a17cdde",
   "metadata": {},
   "outputs": [],
   "source": [
    "name,age = 'Azamat', 98"
   ]
  },
  {
   "cell_type": "code",
   "execution_count": 54,
   "id": "84a2615f",
   "metadata": {},
   "outputs": [],
   "source": [
    "name,age,salary = 'Azamat', 98,5000"
   ]
  },
  {
   "cell_type": "code",
   "execution_count": null,
   "id": "86779124",
   "metadata": {},
   "outputs": [],
   "source": [
    "name,age,*salary = 'Azamat', 98,5000,4000"
   ]
  },
  {
   "cell_type": "code",
   "execution_count": 55,
   "id": "8904b0bd",
   "metadata": {},
   "outputs": [
    {
     "data": {
      "text/plain": [
       "'Azamat'"
      ]
     },
     "execution_count": 55,
     "metadata": {},
     "output_type": "execute_result"
    }
   ],
   "source": [
    "name"
   ]
  },
  {
   "cell_type": "code",
   "execution_count": 56,
   "id": "87db7c20",
   "metadata": {},
   "outputs": [
    {
     "data": {
      "text/plain": [
       "98"
      ]
     },
     "execution_count": 56,
     "metadata": {},
     "output_type": "execute_result"
    }
   ],
   "source": [
    "age"
   ]
  },
  {
   "cell_type": "code",
   "execution_count": 57,
   "id": "0279a56f",
   "metadata": {},
   "outputs": [
    {
     "data": {
      "text/plain": [
       "5000"
      ]
     },
     "execution_count": 57,
     "metadata": {},
     "output_type": "execute_result"
    }
   ],
   "source": [
    "salary"
   ]
  },
  {
   "cell_type": "code",
   "execution_count": 58,
   "id": "7c2750b0",
   "metadata": {},
   "outputs": [],
   "source": [
    "*name,age,salary = 'Azamat', 98,5000,4000"
   ]
  },
  {
   "cell_type": "code",
   "execution_count": 59,
   "id": "18454437",
   "metadata": {},
   "outputs": [
    {
     "data": {
      "text/plain": [
       "['Azamat', 98]"
      ]
     },
     "execution_count": 59,
     "metadata": {},
     "output_type": "execute_result"
    }
   ],
   "source": [
    "name"
   ]
  },
  {
   "cell_type": "code",
   "execution_count": 60,
   "id": "11f9c268",
   "metadata": {},
   "outputs": [
    {
     "data": {
      "text/plain": [
       "4000"
      ]
     },
     "execution_count": 60,
     "metadata": {},
     "output_type": "execute_result"
    }
   ],
   "source": [
    "salary"
   ]
  },
  {
   "cell_type": "code",
   "execution_count": 61,
   "id": "f48056c8",
   "metadata": {},
   "outputs": [
    {
     "name": "stdout",
     "output_type": "stream",
     "text": [
      "<class 'int'>\n",
      "<class 'int'>\n",
      "10\n",
      "15\n"
     ]
    }
   ],
   "source": [
    "a=10\n",
    "b=15\n",
    "print(type(a))\n",
    "print(type(b))\n",
    "print(a)\n",
    "print(b)"
   ]
  },
  {
   "cell_type": "code",
   "execution_count": 62,
   "id": "003a4575",
   "metadata": {},
   "outputs": [
    {
     "data": {
      "text/plain": [
       "10"
      ]
     },
     "execution_count": 62,
     "metadata": {},
     "output_type": "execute_result"
    }
   ],
   "source": [
    "a"
   ]
  },
  {
   "cell_type": "code",
   "execution_count": null,
   "id": "578f7ea5",
   "metadata": {},
   "outputs": [],
   "source": [
    "## teskarisini chiqarish"
   ]
  },
  {
   "cell_type": "code",
   "execution_count": 63,
   "id": "46f6de12",
   "metadata": {},
   "outputs": [
    {
     "name": "stdout",
     "output_type": "stream",
     "text": [
      "15\n",
      "10\n"
     ]
    }
   ],
   "source": [
    "a=10\n",
    "b=15\n",
    "a,b=b,a\n",
    "print(a)\n",
    "print(b)"
   ]
  },
  {
   "cell_type": "code",
   "execution_count": 64,
   "id": "a84f6f4c",
   "metadata": {},
   "outputs": [
    {
     "data": {
      "text/plain": [
       "15"
      ]
     },
     "execution_count": 64,
     "metadata": {},
     "output_type": "execute_result"
    }
   ],
   "source": [
    "a"
   ]
  },
  {
   "cell_type": "code",
   "execution_count": 65,
   "id": "00a61757",
   "metadata": {},
   "outputs": [
    {
     "data": {
      "text/plain": [
       "10"
      ]
     },
     "execution_count": 65,
     "metadata": {},
     "output_type": "execute_result"
    }
   ],
   "source": [
    "b"
   ]
  },
  {
   "cell_type": "code",
   "execution_count": null,
   "id": "bf6db7ea",
   "metadata": {},
   "outputs": [],
   "source": []
  }
 ],
 "metadata": {
  "kernelspec": {
   "display_name": "Python 3",
   "language": "python",
   "name": "python3"
  },
  "language_info": {
   "codemirror_mode": {
    "name": "ipython",
    "version": 3
   },
   "file_extension": ".py",
   "mimetype": "text/x-python",
   "name": "python",
   "nbconvert_exporter": "python",
   "pygments_lexer": "ipython3",
   "version": "3.12.10"
  }
 },
 "nbformat": 4,
 "nbformat_minor": 5
}
