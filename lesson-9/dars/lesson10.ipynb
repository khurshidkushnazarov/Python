{
 "cells": [
  {
   "cell_type": "markdown",
   "id": "ebc38b7a",
   "metadata": {},
   "source": [
    "### MODULES, Datetimes"
   ]
  },
  {
   "cell_type": "code",
   "execution_count": 16,
   "id": "4ede6f73",
   "metadata": {},
   "outputs": [],
   "source": [
    "## import datetime\n",
    "from datetime import date, time, datetime, timezone, timedelta"
   ]
  },
  {
   "cell_type": "code",
   "execution_count": 13,
   "id": "db5295ef",
   "metadata": {},
   "outputs": [
    {
     "name": "stdout",
     "output_type": "stream",
     "text": [
      "12:15:45\n"
     ]
    }
   ],
   "source": [
    "m = datetime.time(12,15,45)\n",
    "print(m)"
   ]
  },
  {
   "cell_type": "code",
   "execution_count": 8,
   "id": "df8ba187",
   "metadata": {},
   "outputs": [
    {
     "name": "stdout",
     "output_type": "stream",
     "text": [
      "12:15:45\n"
     ]
    }
   ],
   "source": [
    "t = time(12,15,45)\n",
    "print(t)"
   ]
  },
  {
   "cell_type": "code",
   "execution_count": 18,
   "id": "290d0a65",
   "metadata": {},
   "outputs": [
    {
     "name": "stdout",
     "output_type": "stream",
     "text": [
      "2025-08-30\n"
     ]
    }
   ],
   "source": [
    "sana = date (2025,8,30)\n",
    "print(sana)"
   ]
  },
  {
   "cell_type": "code",
   "execution_count": 20,
   "id": "46238cd1",
   "metadata": {},
   "outputs": [
    {
     "name": "stdout",
     "output_type": "stream",
     "text": [
      "2025-08-26\n"
     ]
    }
   ],
   "source": [
    "## Bugungi sanani olish\n",
    "bugun = date.today()\n",
    "print(bugun)\n"
   ]
  },
  {
   "cell_type": "code",
   "execution_count": 22,
   "id": "883d1875",
   "metadata": {},
   "outputs": [
    {
     "name": "stdout",
     "output_type": "stream",
     "text": [
      "2025-08-26 18:34:54.858963\n"
     ]
    }
   ],
   "source": [
    "bugun = datetime.today()\n",
    "print(bugun)"
   ]
  },
  {
   "cell_type": "code",
   "execution_count": null,
   "id": "a031f6a7",
   "metadata": {},
   "outputs": [
    {
     "name": "stdout",
     "output_type": "stream",
     "text": [
      "1970-01-01 03:00:01\n"
     ]
    }
   ],
   "source": [
    "## vaqtni boshlanishi progarmmingda\n",
    "start = datetime.fromtimestamp(1)\n",
    "print(start)"
   ]
  },
  {
   "cell_type": "code",
   "execution_count": 24,
   "id": "8a0b0f06",
   "metadata": {},
   "outputs": [
    {
     "name": "stdout",
     "output_type": "stream",
     "text": [
      "1970-01-02 03:00:01\n"
     ]
    }
   ],
   "source": [
    "start = datetime.fromtimestamp(86401)\n",
    "print(start)"
   ]
  },
  {
   "cell_type": "code",
   "execution_count": 25,
   "id": "910496a0",
   "metadata": {},
   "outputs": [
    {
     "name": "stdout",
     "output_type": "stream",
     "text": [
      "1970-01-03 03:00:02\n"
     ]
    }
   ],
   "source": [
    "start = datetime.fromtimestamp(172802)\n",
    "print(start)"
   ]
  },
  {
   "cell_type": "code",
   "execution_count": 49,
   "id": "8854a709",
   "metadata": {},
   "outputs": [],
   "source": [
    "from datetime import date, time, datetime, timezone, timedelta"
   ]
  },
  {
   "cell_type": "code",
   "execution_count": 47,
   "id": "33ffff74",
   "metadata": {},
   "outputs": [
    {
     "name": "stdout",
     "output_type": "stream",
     "text": [
      "2025-08-26 18:55:18.829598\n"
     ]
    }
   ],
   "source": [
    "## bugungacha nechchi sekund otganini topish\n",
    "bugun = datetime.now()\n",
    "print(bugun)"
   ]
  },
  {
   "cell_type": "code",
   "execution_count": 50,
   "id": "07fc3d24",
   "metadata": {},
   "outputs": [
    {
     "name": "stdout",
     "output_type": "stream",
     "text": [
      "<built-in method fromtimestamp of type object at 0x00007FFAF36DFDA0>\n"
     ]
    }
   ],
   "source": [
    "## bugungacha nechchi sekund otganini topish\n",
    "bugun = datetime.now()\n",
    "print(bugun.fromtimestamp)"
   ]
  },
  {
   "cell_type": "code",
   "execution_count": 32,
   "id": "973d21ca",
   "metadata": {},
   "outputs": [],
   "source": [
    "import datetime"
   ]
  },
  {
   "cell_type": "code",
   "execution_count": 33,
   "id": "7e950718",
   "metadata": {},
   "outputs": [
    {
     "name": "stdout",
     "output_type": "stream",
     "text": [
      "2025-08-26 18:48:31.405152\n"
     ]
    }
   ],
   "source": [
    "today = datetime.datetime.now()\n",
    "print(today)"
   ]
  },
  {
   "cell_type": "code",
   "execution_count": 51,
   "id": "a7c38fc6",
   "metadata": {},
   "outputs": [
    {
     "name": "stdout",
     "output_type": "stream",
     "text": [
      "2025-05-10 00:00:00\n"
     ]
    }
   ],
   "source": [
    "date1=datetime(2025,5,10)\n",
    "print(date1)"
   ]
  },
  {
   "cell_type": "code",
   "execution_count": 52,
   "id": "1a7257ed",
   "metadata": {},
   "outputs": [
    {
     "name": "stdout",
     "output_type": "stream",
     "text": [
      "2025-08-11 00:00:00\n"
     ]
    }
   ],
   "source": [
    "date2=datetime(2025,8,11)\n",
    "print(date2)"
   ]
  },
  {
   "cell_type": "code",
   "execution_count": 53,
   "id": "2b35c81d",
   "metadata": {},
   "outputs": [
    {
     "data": {
      "text/plain": [
       "datetime.timedelta(days=93)"
      ]
     },
     "execution_count": 53,
     "metadata": {},
     "output_type": "execute_result"
    }
   ],
   "source": [
    "date2-date1"
   ]
  },
  {
   "cell_type": "code",
   "execution_count": 60,
   "id": "59eed5a8",
   "metadata": {},
   "outputs": [],
   "source": [
    "timedel1 = timedelta(weeks=2, days=3, hours=6)"
   ]
  },
  {
   "cell_type": "code",
   "execution_count": 61,
   "id": "786fa8a8",
   "metadata": {},
   "outputs": [
    {
     "name": "stdout",
     "output_type": "stream",
     "text": [
      "2025-09-13 00:55:42.696356\n"
     ]
    }
   ],
   "source": [
    "date3 = bugun + timedel1\n",
    "print(date3)"
   ]
  },
  {
   "cell_type": "code",
   "execution_count": null,
   "id": "f356e374",
   "metadata": {},
   "outputs": [],
   "source": [
    "\"25 octabr 2025\""
   ]
  },
  {
   "cell_type": "code",
   "execution_count": 62,
   "id": "2efc28d7",
   "metadata": {},
   "outputs": [
    {
     "name": "stdout",
     "output_type": "stream",
     "text": [
      "26 August 2025\n"
     ]
    }
   ],
   "source": [
    "bugun = datetime.now()\n",
    "\n",
    "bugun_str = bugun.strftime(\"%d %B %Y\")\n",
    "print(bugun_str)"
   ]
  },
  {
   "cell_type": "code",
   "execution_count": 63,
   "id": "99505bce",
   "metadata": {},
   "outputs": [
    {
     "name": "stdout",
     "output_type": "stream",
     "text": [
      "26 Aug 2025\n"
     ]
    }
   ],
   "source": [
    "bugun = datetime.now()\n",
    "\n",
    "bugun_str = bugun.strftime(\"%d %b %Y\")\n",
    "print(bugun_str)"
   ]
  },
  {
   "cell_type": "code",
   "execution_count": 64,
   "id": "fe784f4a",
   "metadata": {},
   "outputs": [
    {
     "name": "stdout",
     "output_type": "stream",
     "text": [
      "26 Aug 25\n"
     ]
    }
   ],
   "source": [
    "bugun = datetime.now()\n",
    "\n",
    "bugun_str = bugun.strftime(\"%d %b %y\")\n",
    "print(bugun_str)"
   ]
  },
  {
   "cell_type": "code",
   "execution_count": 66,
   "id": "69b85b78",
   "metadata": {},
   "outputs": [
    {
     "name": "stdout",
     "output_type": "stream",
     "text": [
      "08/26/25\n"
     ]
    }
   ],
   "source": [
    "bugun = datetime.now()\n",
    "\n",
    "bugun_str = bugun.strftime(\"%D\")\n",
    "print(bugun_str)"
   ]
  },
  {
   "cell_type": "code",
   "execution_count": null,
   "id": "efa1c9ef",
   "metadata": {},
   "outputs": [
    {
     "name": "stdout",
     "output_type": "stream",
     "text": [
      "26 /Aug /2025\n"
     ]
    }
   ],
   "source": [
    "## f sanadan tekstga utish \n",
    "\n",
    "bugun = datetime.now()\n",
    "\n",
    "bugun_str = bugun.strftime(\"%d /%b /%Y\")\n",
    "print(bugun_str)"
   ]
  },
  {
   "cell_type": "code",
   "execution_count": null,
   "id": "33545dce",
   "metadata": {},
   "outputs": [
    {
     "name": "stdout",
     "output_type": "stream",
     "text": [
      "2025-08-26 00:00:00\n"
     ]
    }
   ],
   "source": [
    "## p tekstdan sanaga utish \n",
    "sana = datetime.strptime(bugun_str,\"%d /%b /%Y\")\n",
    "print(sana)"
   ]
  },
  {
   "cell_type": "code",
   "execution_count": 76,
   "id": "588dbb7a",
   "metadata": {},
   "outputs": [
    {
     "name": "stdout",
     "output_type": "stream",
     "text": [
      "Tashkent 2025-08-26 19:22:53.465373\n",
      "London: 2025-08-26 17:22:53.465373+01:00\n"
     ]
    }
   ],
   "source": [
    "import pytz\n",
    "\n",
    "local = datetime.now()\n",
    "print(\"Tashkent\", local)\n",
    "\n",
    "tz_london = pytz.timezone(\"Europe/London\")\n",
    "London = datetime.now(tz_london)\n",
    "print(\"London:\", London)"
   ]
  },
  {
   "cell_type": "code",
   "execution_count": 77,
   "id": "a374d146",
   "metadata": {},
   "outputs": [
    {
     "name": "stdout",
     "output_type": "stream",
     "text": [
      "Tashkent 2025-08-26 19:25:02.898069\n",
      "London: 2025-08-26 17:25:02.898871+01:00\n",
      "New York: 2025-08-26 17:25:02.898871+01:00\n"
     ]
    }
   ],
   "source": [
    "import pytz\n",
    "\n",
    "local = datetime.now()\n",
    "print(\"Tashkent\", local)\n",
    "\n",
    "tz_london = pytz.timezone(\"Europe/London\")\n",
    "London = datetime.now(tz_london)\n",
    "print(\"London:\", London)\n",
    "\n",
    "tz_new_york = pytz.timezone(\"America/New_york\")\n",
    "New_York = datetime.now(tz_new_york)\n",
    "print(\"New York:\", London)\n",
    "\n"
   ]
  },
  {
   "cell_type": "code",
   "execution_count": 78,
   "id": "b02e8f1f",
   "metadata": {},
   "outputs": [
    {
     "name": "stdout",
     "output_type": "stream",
     "text": [
      "Tashkent 2025-08-26 19:26:51.201418\n",
      "London: 2025-08-26 17:26:51.202086+01:00\n",
      "New York: 2025-08-26 17:26:51.202086+01:00\n",
      "Tokyo: 2025-08-27 01:26:51.203092+09:00\n"
     ]
    }
   ],
   "source": [
    "import pytz\n",
    "\n",
    "local = datetime.now()\n",
    "print(\"Tashkent\", local)\n",
    "\n",
    "tz_london = pytz.timezone(\"Europe/London\")\n",
    "London = datetime.now(tz_london)\n",
    "print(\"London:\", London)\n",
    "\n",
    "tz_new_york = pytz.timezone(\"America/New_york\")\n",
    "New_York = datetime.now(tz_new_york)\n",
    "print(\"New York:\", London)\n",
    "\n",
    "tz_japan = pytz.timezone(\"Asia/Tokyo\")\n",
    "japan = datetime.now(tz_japan)\n",
    "print(\"Tokyo:\", japan)\n"
   ]
  },
  {
   "cell_type": "code",
   "execution_count": null,
   "id": "c7343c2c",
   "metadata": {},
   "outputs": [],
   "source": []
  }
 ],
 "metadata": {
  "kernelspec": {
   "display_name": "Python 3",
   "language": "python",
   "name": "python3"
  },
  "language_info": {
   "codemirror_mode": {
    "name": "ipython",
    "version": 3
   },
   "file_extension": ".py",
   "mimetype": "text/x-python",
   "name": "python",
   "nbconvert_exporter": "python",
   "pygments_lexer": "ipython3",
   "version": "3.12.10"
  }
 },
 "nbformat": 4,
 "nbformat_minor": 5
}
